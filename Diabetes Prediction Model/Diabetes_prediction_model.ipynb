{
 "cells": [
  {
   "cell_type": "markdown",
   "id": "2f878e97",
   "metadata": {},
   "source": [
    "# Importing Necessary Libraries:"
   ]
  },
  {
   "cell_type": "code",
   "execution_count": 80,
   "id": "049b9652",
   "metadata": {},
   "outputs": [],
   "source": [
    "import numpy as np\n",
    "import pandas as pd\n",
    "import matplotlib.pyplot as plt\n",
    "import seaborn as sns\n",
    "from sklearn.model_selection import train_test_split\n",
    "from sklearn.preprocessing import StandardScaler\n",
    "from sklearn.linear_model import LogisticRegression\n",
    "from sklearn.metrics import \\\n",
    "classification_report,confusion_matrix,precision_score,recall_score\n",
    "import warnings\n",
    "warnings.simplefilter(\"ignore\")"
   ]
  },
  {
   "cell_type": "markdown",
   "id": "09172cc9",
   "metadata": {},
   "source": [
    "# Loading Dataset:"
   ]
  },
  {
   "cell_type": "code",
   "execution_count": 81,
   "id": "7e6254b2",
   "metadata": {},
   "outputs": [
    {
     "data": {
      "text/html": [
       "<div>\n",
       "<style scoped>\n",
       "    .dataframe tbody tr th:only-of-type {\n",
       "        vertical-align: middle;\n",
       "    }\n",
       "\n",
       "    .dataframe tbody tr th {\n",
       "        vertical-align: top;\n",
       "    }\n",
       "\n",
       "    .dataframe thead th {\n",
       "        text-align: right;\n",
       "    }\n",
       "</style>\n",
       "<table border=\"1\" class=\"dataframe\">\n",
       "  <thead>\n",
       "    <tr style=\"text-align: right;\">\n",
       "      <th></th>\n",
       "      <th>Pregnancies</th>\n",
       "      <th>Glucose</th>\n",
       "      <th>BloodPressure</th>\n",
       "      <th>SkinThickness</th>\n",
       "      <th>Insulin</th>\n",
       "      <th>BMI</th>\n",
       "      <th>DiabetesPedigreeFunction</th>\n",
       "      <th>Age</th>\n",
       "      <th>Outcome</th>\n",
       "    </tr>\n",
       "  </thead>\n",
       "  <tbody>\n",
       "    <tr>\n",
       "      <th>0</th>\n",
       "      <td>6</td>\n",
       "      <td>148</td>\n",
       "      <td>72</td>\n",
       "      <td>35</td>\n",
       "      <td>0</td>\n",
       "      <td>33.6</td>\n",
       "      <td>0.627</td>\n",
       "      <td>50</td>\n",
       "      <td>1</td>\n",
       "    </tr>\n",
       "    <tr>\n",
       "      <th>1</th>\n",
       "      <td>1</td>\n",
       "      <td>85</td>\n",
       "      <td>66</td>\n",
       "      <td>29</td>\n",
       "      <td>0</td>\n",
       "      <td>26.6</td>\n",
       "      <td>0.351</td>\n",
       "      <td>31</td>\n",
       "      <td>0</td>\n",
       "    </tr>\n",
       "    <tr>\n",
       "      <th>2</th>\n",
       "      <td>8</td>\n",
       "      <td>183</td>\n",
       "      <td>64</td>\n",
       "      <td>0</td>\n",
       "      <td>0</td>\n",
       "      <td>23.3</td>\n",
       "      <td>0.672</td>\n",
       "      <td>32</td>\n",
       "      <td>1</td>\n",
       "    </tr>\n",
       "    <tr>\n",
       "      <th>3</th>\n",
       "      <td>1</td>\n",
       "      <td>89</td>\n",
       "      <td>66</td>\n",
       "      <td>23</td>\n",
       "      <td>94</td>\n",
       "      <td>28.1</td>\n",
       "      <td>0.167</td>\n",
       "      <td>21</td>\n",
       "      <td>0</td>\n",
       "    </tr>\n",
       "    <tr>\n",
       "      <th>4</th>\n",
       "      <td>0</td>\n",
       "      <td>137</td>\n",
       "      <td>40</td>\n",
       "      <td>35</td>\n",
       "      <td>168</td>\n",
       "      <td>43.1</td>\n",
       "      <td>2.288</td>\n",
       "      <td>33</td>\n",
       "      <td>1</td>\n",
       "    </tr>\n",
       "  </tbody>\n",
       "</table>\n",
       "</div>"
      ],
      "text/plain": [
       "   Pregnancies  Glucose  BloodPressure  SkinThickness  Insulin   BMI  \\\n",
       "0            6      148             72             35        0  33.6   \n",
       "1            1       85             66             29        0  26.6   \n",
       "2            8      183             64              0        0  23.3   \n",
       "3            1       89             66             23       94  28.1   \n",
       "4            0      137             40             35      168  43.1   \n",
       "\n",
       "   DiabetesPedigreeFunction  Age  Outcome  \n",
       "0                     0.627   50        1  \n",
       "1                     0.351   31        0  \n",
       "2                     0.672   32        1  \n",
       "3                     0.167   21        0  \n",
       "4                     2.288   33        1  "
      ]
     },
     "execution_count": 81,
     "metadata": {},
     "output_type": "execute_result"
    }
   ],
   "source": [
    "Diabetes_df = pd.read_csv('diabetes (1).csv')\n",
    "Diabetes_df.head(5)"
   ]
  },
  {
   "cell_type": "markdown",
   "id": "41a0519a",
   "metadata": {},
   "source": [
    "# EDA Analysis:"
   ]
  },
  {
   "cell_type": "markdown",
   "id": "679a1d90",
   "metadata": {},
   "source": [
    "### Dataframe Shape:"
   ]
  },
  {
   "cell_type": "code",
   "execution_count": 6,
   "id": "bd7a441a",
   "metadata": {},
   "outputs": [
    {
     "data": {
      "text/plain": [
       "(768, 9)"
      ]
     },
     "execution_count": 6,
     "metadata": {},
     "output_type": "execute_result"
    }
   ],
   "source": [
    "Diabetes_df.shape"
   ]
  },
  {
   "cell_type": "markdown",
   "id": "2e59944b",
   "metadata": {},
   "source": [
    "- There are in total 9 columns out of which 8 are 'feature vectors' and 1 in 'Target Column'!\n",
    "- There are in total 768 instances!"
   ]
  },
  {
   "cell_type": "markdown",
   "id": "2cfc3bd4",
   "metadata": {},
   "source": [
    "### Dataframe information:"
   ]
  },
  {
   "cell_type": "code",
   "execution_count": 7,
   "id": "4a880754",
   "metadata": {},
   "outputs": [
    {
     "name": "stdout",
     "output_type": "stream",
     "text": [
      "<class 'pandas.core.frame.DataFrame'>\n",
      "RangeIndex: 768 entries, 0 to 767\n",
      "Data columns (total 9 columns):\n",
      " #   Column                    Non-Null Count  Dtype  \n",
      "---  ------                    --------------  -----  \n",
      " 0   Pregnancies               768 non-null    int64  \n",
      " 1   Glucose                   768 non-null    int64  \n",
      " 2   BloodPressure             768 non-null    int64  \n",
      " 3   SkinThickness             768 non-null    int64  \n",
      " 4   Insulin                   768 non-null    int64  \n",
      " 5   BMI                       768 non-null    float64\n",
      " 6   DiabetesPedigreeFunction  768 non-null    float64\n",
      " 7   Age                       768 non-null    int64  \n",
      " 8   Outcome                   768 non-null    int64  \n",
      "dtypes: float64(2), int64(7)\n",
      "memory usage: 54.1 KB\n",
      "None\n",
      "                          count        mean         std     min       25%  \\\n",
      "Pregnancies               768.0    3.845052    3.369578   0.000   1.00000   \n",
      "Glucose                   768.0  120.894531   31.972618   0.000  99.00000   \n",
      "BloodPressure             768.0   69.105469   19.355807   0.000  62.00000   \n",
      "SkinThickness             768.0   20.536458   15.952218   0.000   0.00000   \n",
      "Insulin                   768.0   79.799479  115.244002   0.000   0.00000   \n",
      "BMI                       768.0   31.992578    7.884160   0.000  27.30000   \n",
      "DiabetesPedigreeFunction  768.0    0.471876    0.331329   0.078   0.24375   \n",
      "Age                       768.0   33.240885   11.760232  21.000  24.00000   \n",
      "Outcome                   768.0    0.348958    0.476951   0.000   0.00000   \n",
      "\n",
      "                               50%        75%     max  \n",
      "Pregnancies                 3.0000    6.00000   17.00  \n",
      "Glucose                   117.0000  140.25000  199.00  \n",
      "BloodPressure              72.0000   80.00000  122.00  \n",
      "SkinThickness              23.0000   32.00000   99.00  \n",
      "Insulin                    30.5000  127.25000  846.00  \n",
      "BMI                        32.0000   36.60000   67.10  \n",
      "DiabetesPedigreeFunction    0.3725    0.62625    2.42  \n",
      "Age                        29.0000   41.00000   81.00  \n",
      "Outcome                     0.0000    1.00000    1.00  \n"
     ]
    }
   ],
   "source": [
    "print(Diabetes_df.info())\n",
    "print(Diabetes_df.describe().T)"
   ]
  },
  {
   "cell_type": "markdown",
   "id": "2163f62e",
   "metadata": {},
   "source": [
    "- Since 'mean' of the different variables differ a lot so we need to scale the data!\n",
    "- All the columns in the dataframe is either 'int64' or 'float64'!"
   ]
  },
  {
   "cell_type": "markdown",
   "id": "3916ae61",
   "metadata": {},
   "source": [
    "### Null values:"
   ]
  },
  {
   "cell_type": "code",
   "execution_count": 8,
   "id": "470c9315",
   "metadata": {},
   "outputs": [
    {
     "data": {
      "text/plain": [
       "Pregnancies                 0\n",
       "Glucose                     0\n",
       "BloodPressure               0\n",
       "SkinThickness               0\n",
       "Insulin                     0\n",
       "BMI                         0\n",
       "DiabetesPedigreeFunction    0\n",
       "Age                         0\n",
       "Outcome                     0\n",
       "dtype: int64"
      ]
     },
     "execution_count": 8,
     "metadata": {},
     "output_type": "execute_result"
    }
   ],
   "source": [
    "Diabetes_df.isnull().sum()"
   ]
  },
  {
   "cell_type": "markdown",
   "id": "38e6b3d4",
   "metadata": {},
   "source": [
    "### Value counts od two classes in the 'Target Variable':"
   ]
  },
  {
   "cell_type": "code",
   "execution_count": 9,
   "id": "c3fc378d",
   "metadata": {},
   "outputs": [
    {
     "data": {
      "text/plain": [
       "0    0.651042\n",
       "1    0.348958\n",
       "Name: Outcome, dtype: float64"
      ]
     },
     "execution_count": 9,
     "metadata": {},
     "output_type": "execute_result"
    }
   ],
   "source": [
    "Diabetes_df['Outcome'].value_counts(normalize=True)"
   ]
  },
  {
   "cell_type": "markdown",
   "id": "216df58e",
   "metadata": {},
   "source": [
    "- From above we get to know that that the 'Target variable' is unbalanced!"
   ]
  },
  {
   "cell_type": "markdown",
   "id": "a4c74bdc",
   "metadata": {},
   "source": [
    "# 2.Graphical Analysis:"
   ]
  },
  {
   "cell_type": "markdown",
   "id": "dd912386",
   "metadata": {},
   "source": [
    "## 2.1 Countplot of target variable:"
   ]
  },
  {
   "cell_type": "code",
   "execution_count": 10,
   "id": "6b036faa",
   "metadata": {},
   "outputs": [
    {
     "data": {
      "image/png": "[encoded data removed]",
      "text/plain": [
       "<Figure size 640x480 with 1 Axes>"
      ]
     },
     "metadata": {},
     "output_type": "display_data"
    }
   ],
   "source": [
    "sns.countplot(data=Diabetes_df,x='Outcome')\n",
    "plt.show()"
   ]
  },
  {
   "cell_type": "markdown",
   "id": "ae7df9ed",
   "metadata": {},
   "source": [
    "## 2.2 Distribution of Features:"
   ]
  },
  {
   "cell_type": "code",
   "execution_count": 11,
   "id": "a5dd1a8d",
   "metadata": {},
   "outputs": [
    {
     "name": "stderr",
     "output_type": "stream",
     "text": [
      "C:\\Users\\Home pc\\anaconda3\\lib\\site-packages\\seaborn\\distributions.py:2619: FutureWarning: `distplot` is a deprecated function and will be removed in a future version. Please adapt your code to use either `displot` (a figure-level function with similar flexibility) or `histplot` (an axes-level function for histograms).\n",
      "  warnings.warn(msg, FutureWarning)\n"
     ]
    },
    {
     "data": {
      "image/png": "[encoded data removed]",
      "text/plain": [
       "<Figure size 640x480 with 1 Axes>"
      ]
     },
     "metadata": {},
     "output_type": "display_data"
    },
    {
     "name": "stderr",
     "output_type": "stream",
     "text": [
      "C:\\Users\\Home pc\\anaconda3\\lib\\site-packages\\seaborn\\distributions.py:2619: FutureWarning: `distplot` is a deprecated function and will be removed in a future version. Please adapt your code to use either `displot` (a figure-level function with similar flexibility) or `histplot` (an axes-level function for histograms).\n",
      "  warnings.warn(msg, FutureWarning)\n"
     ]
    },
    {
     "data": {
      "image/png": "[encoded data removed]",
      "text/plain": [
       "<Figure size 640x480 with 1 Axes>"
      ]
     },
     "metadata": {},
     "output_type": "display_data"
    },
    {
     "name": "stderr",
     "output_type": "stream",
     "text": [
      "C:\\Users\\Home pc\\anaconda3\\lib\\site-packages\\seaborn\\distributions.py:2619: FutureWarning: `distplot` is a deprecated function and will be removed in a future version. Please adapt your code to use either `displot` (a figure-level function with similar flexibility) or `histplot` (an axes-level function for histograms).\n",
      "  warnings.warn(msg, FutureWarning)\n"
     ]
    },
    {
     "data": {
      "image/png": "[encoded data removed]",
      "text/plain": [
       "<Figure size 640x480 with 1 Axes>"
      ]
     },
     "metadata": {},
     "output_type": "display_data"
    },
    {
     "name": "stderr",
     "output_type": "stream",
     "text": [
      "C:\\Users\\Home pc\\anaconda3\\lib\\site-packages\\seaborn\\distributions.py:2619: FutureWarning: `distplot` is a deprecated function and will be removed in a future version. Please adapt your code to use either `displot` (a figure-level function with similar flexibility) or `histplot` (an axes-level function for histograms).\n",
      "  warnings.warn(msg, FutureWarning)\n"
     ]
    },
    {
     "data": {
      "image/png": "[encoded data removed]",
      "text/plain": [
       "<Figure size 640x480 with 1 Axes>"
      ]
     },
     "metadata": {},
     "output_type": "display_data"
    },
    {
     "name": "stderr",
     "output_type": "stream",
     "text": [
      "C:\\Users\\Home pc\\anaconda3\\lib\\site-packages\\seaborn\\distributions.py:2619: FutureWarning: `distplot` is a deprecated function and will be removed in a future version. Please adapt your code to use either `displot` (a figure-level function with similar flexibility) or `histplot` (an axes-level function for histograms).\n",
      "  warnings.warn(msg, FutureWarning)\n"
     ]
    },
    {
     "data": {
      "image/png": "[encoded data removed]",
      "text/plain": [
       "<Figure size 640x480 with 1 Axes>"
      ]
     },
     "metadata": {},
     "output_type": "display_data"
    },
    {
     "name": "stderr",
     "output_type": "stream",
     "text": [
      "C:\\Users\\Home pc\\anaconda3\\lib\\site-packages\\seaborn\\distributions.py:2619: FutureWarning: `distplot` is a deprecated function and will be removed in a future version. Please adapt your code to use either `displot` (a figure-level function with similar flexibility) or `histplot` (an axes-level function for histograms).\n",
      "  warnings.warn(msg, FutureWarning)\n"
     ]
    },
    {
     "data": {
      "image/png": "[encoded data removed]",
      "text/plain": [
       "<Figure size 640x480 with 1 Axes>"
      ]
     },
     "metadata": {},
     "output_type": "display_data"
    },
    {
     "name": "stderr",
     "output_type": "stream",
     "text": [
      "C:\\Users\\Home pc\\anaconda3\\lib\\site-packages\\seaborn\\distributions.py:2619: FutureWarning: `distplot` is a deprecated function and will be removed in a future version. Please adapt your code to use either `displot` (a figure-level function with similar flexibility) or `histplot` (an axes-level function for histograms).\n",
      "  warnings.warn(msg, FutureWarning)\n"
     ]
    },
    {
     "data": {
      "image/png": "[encoded data removed]",
      "text/plain": [
       "<Figure size 640x480 with 1 Axes>"
      ]
     },
     "metadata": {},
     "output_type": "display_data"
    },
    {
     "name": "stderr",
     "output_type": "stream",
     "text": [
      "C:\\Users\\Home pc\\anaconda3\\lib\\site-packages\\seaborn\\distributions.py:2619: FutureWarning: `distplot` is a deprecated function and will be removed in a future version. Please adapt your code to use either `displot` (a figure-level function with similar flexibility) or `histplot` (an axes-level function for histograms).\n",
      "  warnings.warn(msg, FutureWarning)\n"
     ]
    },
    {
     "data": {
      "image/png": "[encoded data removed]",
      "text/plain": [
       "<Figure size 640x480 with 1 Axes>"
      ]
     },
     "metadata": {},
     "output_type": "display_data"
    }
   ],
   "source": [
    "# Show the Distribution Plot for each columns having Outliers:\n",
    "Outliers_df = Diabetes_df.drop(columns='Outcome')\n",
    "for i in Outliers_df.columns:\n",
    "    sns.distplot(Outliers_df[i])\n",
    "    plt.show()"
   ]
  },
  {
   "cell_type": "markdown",
   "id": "5a6df760",
   "metadata": {},
   "source": [
    "## 2.3 Heatmap of Features:"
   ]
  },
  {
   "cell_type": "code",
   "execution_count": 12,
   "id": "a9f2b0a5",
   "metadata": {},
   "outputs": [
    {
     "data": {
      "image/png": "[encoded data removed]",
      "text/plain": [
       "<Figure size 640x480 with 2 Axes>"
      ]
     },
     "metadata": {},
     "output_type": "display_data"
    }
   ],
   "source": [
    "correlation = Diabetes_df.corr()\n",
    "sns.heatmap(correlation,cmap='mako',annot=True)\n",
    "plt.show()"
   ]
  },
  {
   "cell_type": "markdown",
   "id": "5ed73806",
   "metadata": {},
   "source": [
    "- In terms of multicollinearity 'Age-Pregnancies' shows moderate relation between them!"
   ]
  },
  {
   "cell_type": "markdown",
   "id": "4f40365d",
   "metadata": {},
   "source": [
    "## 2.4 Handeling Outliers:"
   ]
  },
  {
   "cell_type": "code",
   "execution_count": 13,
   "id": "1bffe2f7",
   "metadata": {},
   "outputs": [
    {
     "name": "stderr",
     "output_type": "stream",
     "text": [
      "C:\\Users\\Home pc\\anaconda3\\lib\\site-packages\\seaborn\\_decorators.py:36: FutureWarning: Pass the following variable as a keyword arg: x. From version 0.12, the only valid positional argument will be `data`, and passing other arguments without an explicit keyword will result in an error or misinterpretation.\n",
      "  warnings.warn(\n"
     ]
    },
    {
     "data": {
      "image/png": "[encoded data removed]",
      "text/plain": [
       "<Figure size 640x480 with 1 Axes>"
      ]
     },
     "metadata": {},
     "output_type": "display_data"
    },
    {
     "name": "stderr",
     "output_type": "stream",
     "text": [
      "C:\\Users\\Home pc\\anaconda3\\lib\\site-packages\\seaborn\\_decorators.py:36: FutureWarning: Pass the following variable as a keyword arg: x. From version 0.12, the only valid positional argument will be `data`, and passing other arguments without an explicit keyword will result in an error or misinterpretation.\n",
      "  warnings.warn(\n"
     ]
    },
    {
     "data": {
      "image/png": "[encoded data removed]",
      "text/plain": [
       "<Figure size 640x480 with 1 Axes>"
      ]
     },
     "metadata": {},
     "output_type": "display_data"
    },
    {
     "name": "stderr",
     "output_type": "stream",
     "text": [
      "C:\\Users\\Home pc\\anaconda3\\lib\\site-packages\\seaborn\\_decorators.py:36: FutureWarning: Pass the following variable as a keyword arg: x. From version 0.12, the only valid positional argument will be `data`, and passing other arguments without an explicit keyword will result in an error or misinterpretation.\n",
      "  warnings.warn(\n"
     ]
    },
    {
     "data": {
      "image/png": "[encoded data removed]",
      "text/plain": [
       "<Figure size 640x480 with 1 Axes>"
      ]
     },
     "metadata": {},
     "output_type": "display_data"
    },
    {
     "name": "stderr",
     "output_type": "stream",
     "text": [
      "C:\\Users\\Home pc\\anaconda3\\lib\\site-packages\\seaborn\\_decorators.py:36: FutureWarning: Pass the following variable as a keyword arg: x. From version 0.12, the only valid positional argument will be `data`, and passing other arguments without an explicit keyword will result in an error or misinterpretation.\n",
      "  warnings.warn(\n"
     ]
    },
    {
     "data": {
      "image/png": "[encoded data removed]",
      "text/plain": [
       "<Figure size 640x480 with 1 Axes>"
      ]
     },
     "metadata": {},
     "output_type": "display_data"
    },
    {
     "name": "stderr",
     "output_type": "stream",
     "text": [
      "C:\\Users\\Home pc\\anaconda3\\lib\\site-packages\\seaborn\\_decorators.py:36: FutureWarning: Pass the following variable as a keyword arg: x. From version 0.12, the only valid positional argument will be `data`, and passing other arguments without an explicit keyword will result in an error or misinterpretation.\n",
      "  warnings.warn(\n"
     ]
    },
    {
     "data": {
      "image/png": "[encoded data removed]",
      "text/plain": [
       "<Figure size 640x480 with 1 Axes>"
      ]
     },
     "metadata": {},
     "output_type": "display_data"
    },
    {
     "name": "stderr",
     "output_type": "stream",
     "text": [
      "C:\\Users\\Home pc\\anaconda3\\lib\\site-packages\\seaborn\\_decorators.py:36: FutureWarning: Pass the following variable as a keyword arg: x. From version 0.12, the only valid positional argument will be `data`, and passing other arguments without an explicit keyword will result in an error or misinterpretation.\n",
      "  warnings.warn(\n"
     ]
    },
    {
     "data": {
      "image/png": "[encoded data removed]",
      "text/plain": [
       "<Figure size 640x480 with 1 Axes>"
      ]
     },
     "metadata": {},
     "output_type": "display_data"
    },
    {
     "name": "stderr",
     "output_type": "stream",
     "text": [
      "C:\\Users\\Home pc\\anaconda3\\lib\\site-packages\\seaborn\\_decorators.py:36: FutureWarning: Pass the following variable as a keyword arg: x. From version 0.12, the only valid positional argument will be `data`, and passing other arguments without an explicit keyword will result in an error or misinterpretation.\n",
      "  warnings.warn(\n"
     ]
    },
    {
     "data": {
      "image/png": "[encoded data removed]",
      "text/plain": [
       "<Figure size 640x480 with 1 Axes>"
      ]
     },
     "metadata": {},
     "output_type": "display_data"
    },
    {
     "name": "stderr",
     "output_type": "stream",
     "text": [
      "C:\\Users\\Home pc\\anaconda3\\lib\\site-packages\\seaborn\\_decorators.py:36: FutureWarning: Pass the following variable as a keyword arg: x. From version 0.12, the only valid positional argument will be `data`, and passing other arguments without an explicit keyword will result in an error or misinterpretation.\n",
      "  warnings.warn(\n"
     ]
    },
    {
     "data": {
      "image/png": "[encoded data removed]",
      "text/plain": [
       "<Figure size 640x480 with 1 Axes>"
      ]
     },
     "metadata": {},
     "output_type": "display_data"
    },
    {
     "name": "stderr",
     "output_type": "stream",
     "text": [
      "C:\\Users\\Home pc\\anaconda3\\lib\\site-packages\\seaborn\\_decorators.py:36: FutureWarning: Pass the following variable as a keyword arg: x. From version 0.12, the only valid positional argument will be `data`, and passing other arguments without an explicit keyword will result in an error or misinterpretation.\n",
      "  warnings.warn(\n"
     ]
    },
    {
     "data": {
      "image/png": "[encoded data removed]",
      "text/plain": [
       "<Figure size 640x480 with 1 Axes>"
      ]
     },
     "metadata": {},
     "output_type": "display_data"
    }
   ],
   "source": [
    "for i in Diabetes_df.columns:\n",
    "    sns.boxplot(Diabetes_df[i])\n",
    "    plt.show()"
   ]
  },
  {
   "cell_type": "markdown",
   "id": "30c5bef9",
   "metadata": {},
   "source": [
    "- So the columns 'Pregnancies','Glucose','Blood Pressure','Skin Thickness','Insulin','BMI','DiabetesPedigreeFunction','Age have Outliers."
   ]
  },
  {
   "cell_type": "markdown",
   "id": "b3379423",
   "metadata": {},
   "source": [
    "# 3. Treatment of Outliers:"
   ]
  },
  {
   "cell_type": "markdown",
   "id": "56b9f39a",
   "metadata": {},
   "source": [
    "### 'Pregnancies'-"
   ]
  },
  {
   "cell_type": "code",
   "execution_count": 14,
   "id": "7496cada",
   "metadata": {},
   "outputs": [
    {
     "name": "stdout",
     "output_type": "stream",
     "text": [
      "The upper_fence is 13.5 and Lower_fence is -6.5\n"
     ]
    }
   ],
   "source": [
    "# Treating Outliers for column 'Pregnancies' using IQR method: (Outliers_df = 768X8)\n",
    "Q1 = Outliers_df['Pregnancies'].quantile(0.25)\n",
    "Q3 = Outliers_df['Pregnancies'].quantile(0.75)\n",
    "IQR = Q3-Q1\n",
    "Upper_fence = Q3+1.5*IQR\n",
    "Lower_fence = Q1-1.5*IQR\n",
    "print(f'The upper_fence is {Upper_fence} and Lower_fence is {Lower_fence}')"
   ]
  },
  {
   "cell_type": "code",
   "execution_count": 15,
   "id": "0ab7bfee",
   "metadata": {},
   "outputs": [
    {
     "data": {
      "text/html": [
       "<div>\n",
       "<style scoped>\n",
       "    .dataframe tbody tr th:only-of-type {\n",
       "        vertical-align: middle;\n",
       "    }\n",
       "\n",
       "    .dataframe tbody tr th {\n",
       "        vertical-align: top;\n",
       "    }\n",
       "\n",
       "    .dataframe thead th {\n",
       "        text-align: right;\n",
       "    }\n",
       "</style>\n",
       "<table border=\"1\" class=\"dataframe\">\n",
       "  <thead>\n",
       "    <tr style=\"text-align: right;\">\n",
       "      <th></th>\n",
       "      <th>Pregnancies</th>\n",
       "      <th>Glucose</th>\n",
       "      <th>BloodPressure</th>\n",
       "      <th>SkinThickness</th>\n",
       "      <th>Insulin</th>\n",
       "      <th>BMI</th>\n",
       "      <th>DiabetesPedigreeFunction</th>\n",
       "      <th>Age</th>\n",
       "    </tr>\n",
       "  </thead>\n",
       "  <tbody>\n",
       "    <tr>\n",
       "      <th>88</th>\n",
       "      <td>15</td>\n",
       "      <td>136</td>\n",
       "      <td>70</td>\n",
       "      <td>32</td>\n",
       "      <td>110</td>\n",
       "      <td>37.1</td>\n",
       "      <td>0.153</td>\n",
       "      <td>43</td>\n",
       "    </tr>\n",
       "    <tr>\n",
       "      <th>159</th>\n",
       "      <td>17</td>\n",
       "      <td>163</td>\n",
       "      <td>72</td>\n",
       "      <td>41</td>\n",
       "      <td>114</td>\n",
       "      <td>40.9</td>\n",
       "      <td>0.817</td>\n",
       "      <td>47</td>\n",
       "    </tr>\n",
       "    <tr>\n",
       "      <th>298</th>\n",
       "      <td>14</td>\n",
       "      <td>100</td>\n",
       "      <td>78</td>\n",
       "      <td>25</td>\n",
       "      <td>184</td>\n",
       "      <td>36.6</td>\n",
       "      <td>0.412</td>\n",
       "      <td>46</td>\n",
       "    </tr>\n",
       "    <tr>\n",
       "      <th>455</th>\n",
       "      <td>14</td>\n",
       "      <td>175</td>\n",
       "      <td>62</td>\n",
       "      <td>30</td>\n",
       "      <td>0</td>\n",
       "      <td>33.6</td>\n",
       "      <td>0.212</td>\n",
       "      <td>38</td>\n",
       "    </tr>\n",
       "  </tbody>\n",
       "</table>\n",
       "</div>"
      ],
      "text/plain": [
       "     Pregnancies  Glucose  BloodPressure  SkinThickness  Insulin   BMI  \\\n",
       "88            15      136             70             32      110  37.1   \n",
       "159           17      163             72             41      114  40.9   \n",
       "298           14      100             78             25      184  36.6   \n",
       "455           14      175             62             30        0  33.6   \n",
       "\n",
       "     DiabetesPedigreeFunction  Age  \n",
       "88                      0.153   43  \n",
       "159                     0.817   47  \n",
       "298                     0.412   46  \n",
       "455                     0.212   38  "
      ]
     },
     "execution_count": 15,
     "metadata": {},
     "output_type": "execute_result"
    }
   ],
   "source": [
    "# Show Outliers:\n",
    "Outliers_df[Outliers_df['Pregnancies']>Upper_fence]"
   ]
  },
  {
   "cell_type": "code",
   "execution_count": 16,
   "id": "88a69a13",
   "metadata": {},
   "outputs": [
    {
     "data": {
      "text/plain": [
       "count    768.000000\n",
       "mean       3.837240\n",
       "std        3.344157\n",
       "min        0.000000\n",
       "25%        1.000000\n",
       "50%        3.000000\n",
       "75%        6.000000\n",
       "max       13.500000\n",
       "Name: Pregnancies, dtype: float64"
      ]
     },
     "execution_count": 16,
     "metadata": {},
     "output_type": "execute_result"
    }
   ],
   "source": [
    "#Treating Using Capping Method:\n",
    "Outliers_df['Pregnancies'] = np.where(Outliers_df['Pregnancies']>Upper_fence,Upper_fence,Outliers_df['Pregnancies'])\n",
    "Outliers_df['Pregnancies'].describe().T"
   ]
  },
  {
   "cell_type": "markdown",
   "id": "f7b9708a",
   "metadata": {},
   "source": [
    "### 'Glucose'-"
   ]
  },
  {
   "cell_type": "code",
   "execution_count": 17,
   "id": "bd3274ed",
   "metadata": {},
   "outputs": [
    {
     "name": "stdout",
     "output_type": "stream",
     "text": [
      "The upper_fence is 202.125 and Lower_fence is 37.125\n"
     ]
    }
   ],
   "source": [
    "# Treating Outliers for column 'Glucose' using IQR method: (Outliers_df = 768X8)\n",
    "Q1 = Outliers_df['Glucose'].quantile(0.25)\n",
    "Q3 = Outliers_df['Glucose'].quantile(0.75)\n",
    "IQR = Q3-Q1\n",
    "Upper_Glu = Q3+1.5*IQR\n",
    "Lower_Glu = Q1-1.5*IQR\n",
    "print(f'The upper_fence is {Upper_Glu} and Lower_fence is {Lower_Glu}')"
   ]
  },
  {
   "cell_type": "code",
   "execution_count": 18,
   "id": "fbd7a6f9",
   "metadata": {},
   "outputs": [
    {
     "data": {
      "text/html": [
       "<div>\n",
       "<style scoped>\n",
       "    .dataframe tbody tr th:only-of-type {\n",
       "        vertical-align: middle;\n",
       "    }\n",
       "\n",
       "    .dataframe tbody tr th {\n",
       "        vertical-align: top;\n",
       "    }\n",
       "\n",
       "    .dataframe thead th {\n",
       "        text-align: right;\n",
       "    }\n",
       "</style>\n",
       "<table border=\"1\" class=\"dataframe\">\n",
       "  <thead>\n",
       "    <tr style=\"text-align: right;\">\n",
       "      <th></th>\n",
       "      <th>Pregnancies</th>\n",
       "      <th>Glucose</th>\n",
       "      <th>BloodPressure</th>\n",
       "      <th>SkinThickness</th>\n",
       "      <th>Insulin</th>\n",
       "      <th>BMI</th>\n",
       "      <th>DiabetesPedigreeFunction</th>\n",
       "      <th>Age</th>\n",
       "    </tr>\n",
       "  </thead>\n",
       "  <tbody>\n",
       "    <tr>\n",
       "      <th>75</th>\n",
       "      <td>1.0</td>\n",
       "      <td>0</td>\n",
       "      <td>48</td>\n",
       "      <td>20</td>\n",
       "      <td>0</td>\n",
       "      <td>24.7</td>\n",
       "      <td>0.140</td>\n",
       "      <td>22</td>\n",
       "    </tr>\n",
       "    <tr>\n",
       "      <th>182</th>\n",
       "      <td>1.0</td>\n",
       "      <td>0</td>\n",
       "      <td>74</td>\n",
       "      <td>20</td>\n",
       "      <td>23</td>\n",
       "      <td>27.7</td>\n",
       "      <td>0.299</td>\n",
       "      <td>21</td>\n",
       "    </tr>\n",
       "    <tr>\n",
       "      <th>342</th>\n",
       "      <td>1.0</td>\n",
       "      <td>0</td>\n",
       "      <td>68</td>\n",
       "      <td>35</td>\n",
       "      <td>0</td>\n",
       "      <td>32.0</td>\n",
       "      <td>0.389</td>\n",
       "      <td>22</td>\n",
       "    </tr>\n",
       "    <tr>\n",
       "      <th>349</th>\n",
       "      <td>5.0</td>\n",
       "      <td>0</td>\n",
       "      <td>80</td>\n",
       "      <td>32</td>\n",
       "      <td>0</td>\n",
       "      <td>41.0</td>\n",
       "      <td>0.346</td>\n",
       "      <td>37</td>\n",
       "    </tr>\n",
       "    <tr>\n",
       "      <th>502</th>\n",
       "      <td>6.0</td>\n",
       "      <td>0</td>\n",
       "      <td>68</td>\n",
       "      <td>41</td>\n",
       "      <td>0</td>\n",
       "      <td>39.0</td>\n",
       "      <td>0.727</td>\n",
       "      <td>41</td>\n",
       "    </tr>\n",
       "  </tbody>\n",
       "</table>\n",
       "</div>"
      ],
      "text/plain": [
       "     Pregnancies  Glucose  BloodPressure  SkinThickness  Insulin   BMI  \\\n",
       "75           1.0        0             48             20        0  24.7   \n",
       "182          1.0        0             74             20       23  27.7   \n",
       "342          1.0        0             68             35        0  32.0   \n",
       "349          5.0        0             80             32        0  41.0   \n",
       "502          6.0        0             68             41        0  39.0   \n",
       "\n",
       "     DiabetesPedigreeFunction  Age  \n",
       "75                      0.140   22  \n",
       "182                     0.299   21  \n",
       "342                     0.389   22  \n",
       "349                     0.346   37  \n",
       "502                     0.727   41  "
      ]
     },
     "execution_count": 18,
     "metadata": {},
     "output_type": "execute_result"
    }
   ],
   "source": [
    "# Show Outliers:\n",
    "Outliers_df[(Outliers_df['Glucose']>Upper_Glu)|(Outliers_df['Glucose']<Lower_Glu)]"
   ]
  },
  {
   "cell_type": "code",
   "execution_count": 19,
   "id": "655041ca",
   "metadata": {},
   "outputs": [
    {
     "data": {
      "text/plain": [
       "count    768.000000\n",
       "mean     121.136230\n",
       "std       31.187468\n",
       "min       37.125000\n",
       "25%       99.000000\n",
       "50%      117.000000\n",
       "75%      140.250000\n",
       "max      199.000000\n",
       "Name: Glucose, dtype: float64"
      ]
     },
     "execution_count": 19,
     "metadata": {},
     "output_type": "execute_result"
    }
   ],
   "source": [
    "#Treating Using Capping Method:\n",
    "Outliers_df['Glucose'] = np.where(Outliers_df['Glucose']>Upper_Glu,Upper_Glu,\n",
    "                                 np.where(Outliers_df['Glucose']<Lower_Glu,Lower_Glu,Outliers_df['Glucose']))\n",
    "Outliers_df['Glucose'].describe().T"
   ]
  },
  {
   "cell_type": "markdown",
   "id": "21b01459",
   "metadata": {},
   "source": [
    "### 'BloodPresure'"
   ]
  },
  {
   "cell_type": "code",
   "execution_count": 20,
   "id": "8b86d281",
   "metadata": {},
   "outputs": [
    {
     "name": "stdout",
     "output_type": "stream",
     "text": [
      "The upper_fence is 107.0 and Lower_fence is 35.0\n"
     ]
    }
   ],
   "source": [
    "# Treating Outliers for column 'BloodPressure' using IQR method: (Outliers_df = 768X8)\n",
    "Q1 = Outliers_df['BloodPressure'].quantile(0.25)\n",
    "Q3 = Outliers_df['BloodPressure'].quantile(0.75)\n",
    "IQR = Q3-Q1\n",
    "Upper_Blo = Q3+1.5*IQR\n",
    "Lower_Blo = Q1-1.5*IQR\n",
    "print(f'The upper_fence is {Upper_Blo} and Lower_fence is {Lower_Blo}')"
   ]
  },
  {
   "cell_type": "code",
   "execution_count": 21,
   "id": "25ca4945",
   "metadata": {},
   "outputs": [
    {
     "data": {
      "text/html": [
       "<div>\n",
       "<style scoped>\n",
       "    .dataframe tbody tr th:only-of-type {\n",
       "        vertical-align: middle;\n",
       "    }\n",
       "\n",
       "    .dataframe tbody tr th {\n",
       "        vertical-align: top;\n",
       "    }\n",
       "\n",
       "    .dataframe thead th {\n",
       "        text-align: right;\n",
       "    }\n",
       "</style>\n",
       "<table border=\"1\" class=\"dataframe\">\n",
       "  <thead>\n",
       "    <tr style=\"text-align: right;\">\n",
       "      <th></th>\n",
       "      <th>Pregnancies</th>\n",
       "      <th>Glucose</th>\n",
       "      <th>BloodPressure</th>\n",
       "      <th>SkinThickness</th>\n",
       "      <th>Insulin</th>\n",
       "      <th>BMI</th>\n",
       "      <th>DiabetesPedigreeFunction</th>\n",
       "      <th>Age</th>\n",
       "    </tr>\n",
       "  </thead>\n",
       "  <tbody>\n",
       "    <tr>\n",
       "      <th>7</th>\n",
       "      <td>10.0</td>\n",
       "      <td>115.0</td>\n",
       "      <td>0</td>\n",
       "      <td>0</td>\n",
       "      <td>0</td>\n",
       "      <td>35.3</td>\n",
       "      <td>0.134</td>\n",
       "      <td>29</td>\n",
       "    </tr>\n",
       "    <tr>\n",
       "      <th>15</th>\n",
       "      <td>7.0</td>\n",
       "      <td>100.0</td>\n",
       "      <td>0</td>\n",
       "      <td>0</td>\n",
       "      <td>0</td>\n",
       "      <td>30.0</td>\n",
       "      <td>0.484</td>\n",
       "      <td>32</td>\n",
       "    </tr>\n",
       "    <tr>\n",
       "      <th>18</th>\n",
       "      <td>1.0</td>\n",
       "      <td>103.0</td>\n",
       "      <td>30</td>\n",
       "      <td>38</td>\n",
       "      <td>83</td>\n",
       "      <td>43.3</td>\n",
       "      <td>0.183</td>\n",
       "      <td>33</td>\n",
       "    </tr>\n",
       "    <tr>\n",
       "      <th>43</th>\n",
       "      <td>9.0</td>\n",
       "      <td>171.0</td>\n",
       "      <td>110</td>\n",
       "      <td>24</td>\n",
       "      <td>240</td>\n",
       "      <td>45.4</td>\n",
       "      <td>0.721</td>\n",
       "      <td>54</td>\n",
       "    </tr>\n",
       "    <tr>\n",
       "      <th>49</th>\n",
       "      <td>7.0</td>\n",
       "      <td>105.0</td>\n",
       "      <td>0</td>\n",
       "      <td>0</td>\n",
       "      <td>0</td>\n",
       "      <td>0.0</td>\n",
       "      <td>0.305</td>\n",
       "      <td>24</td>\n",
       "    </tr>\n",
       "    <tr>\n",
       "      <th>60</th>\n",
       "      <td>2.0</td>\n",
       "      <td>84.0</td>\n",
       "      <td>0</td>\n",
       "      <td>0</td>\n",
       "      <td>0</td>\n",
       "      <td>0.0</td>\n",
       "      <td>0.304</td>\n",
       "      <td>21</td>\n",
       "    </tr>\n",
       "    <tr>\n",
       "      <th>78</th>\n",
       "      <td>0.0</td>\n",
       "      <td>131.0</td>\n",
       "      <td>0</td>\n",
       "      <td>0</td>\n",
       "      <td>0</td>\n",
       "      <td>43.2</td>\n",
       "      <td>0.270</td>\n",
       "      <td>26</td>\n",
       "    </tr>\n",
       "    <tr>\n",
       "      <th>81</th>\n",
       "      <td>2.0</td>\n",
       "      <td>74.0</td>\n",
       "      <td>0</td>\n",
       "      <td>0</td>\n",
       "      <td>0</td>\n",
       "      <td>0.0</td>\n",
       "      <td>0.102</td>\n",
       "      <td>22</td>\n",
       "    </tr>\n",
       "    <tr>\n",
       "      <th>84</th>\n",
       "      <td>5.0</td>\n",
       "      <td>137.0</td>\n",
       "      <td>108</td>\n",
       "      <td>0</td>\n",
       "      <td>0</td>\n",
       "      <td>48.8</td>\n",
       "      <td>0.227</td>\n",
       "      <td>37</td>\n",
       "    </tr>\n",
       "    <tr>\n",
       "      <th>106</th>\n",
       "      <td>1.0</td>\n",
       "      <td>96.0</td>\n",
       "      <td>122</td>\n",
       "      <td>0</td>\n",
       "      <td>0</td>\n",
       "      <td>22.4</td>\n",
       "      <td>0.207</td>\n",
       "      <td>27</td>\n",
       "    </tr>\n",
       "    <tr>\n",
       "      <th>125</th>\n",
       "      <td>1.0</td>\n",
       "      <td>88.0</td>\n",
       "      <td>30</td>\n",
       "      <td>42</td>\n",
       "      <td>99</td>\n",
       "      <td>55.0</td>\n",
       "      <td>0.496</td>\n",
       "      <td>26</td>\n",
       "    </tr>\n",
       "    <tr>\n",
       "      <th>172</th>\n",
       "      <td>2.0</td>\n",
       "      <td>87.0</td>\n",
       "      <td>0</td>\n",
       "      <td>23</td>\n",
       "      <td>0</td>\n",
       "      <td>28.9</td>\n",
       "      <td>0.773</td>\n",
       "      <td>25</td>\n",
       "    </tr>\n",
       "    <tr>\n",
       "      <th>177</th>\n",
       "      <td>0.0</td>\n",
       "      <td>129.0</td>\n",
       "      <td>110</td>\n",
       "      <td>46</td>\n",
       "      <td>130</td>\n",
       "      <td>67.1</td>\n",
       "      <td>0.319</td>\n",
       "      <td>26</td>\n",
       "    </tr>\n",
       "    <tr>\n",
       "      <th>193</th>\n",
       "      <td>11.0</td>\n",
       "      <td>135.0</td>\n",
       "      <td>0</td>\n",
       "      <td>0</td>\n",
       "      <td>0</td>\n",
       "      <td>52.3</td>\n",
       "      <td>0.578</td>\n",
       "      <td>40</td>\n",
       "    </tr>\n",
       "    <tr>\n",
       "      <th>222</th>\n",
       "      <td>7.0</td>\n",
       "      <td>119.0</td>\n",
       "      <td>0</td>\n",
       "      <td>0</td>\n",
       "      <td>0</td>\n",
       "      <td>25.2</td>\n",
       "      <td>0.209</td>\n",
       "      <td>37</td>\n",
       "    </tr>\n",
       "    <tr>\n",
       "      <th>261</th>\n",
       "      <td>3.0</td>\n",
       "      <td>141.0</td>\n",
       "      <td>0</td>\n",
       "      <td>0</td>\n",
       "      <td>0</td>\n",
       "      <td>30.0</td>\n",
       "      <td>0.761</td>\n",
       "      <td>27</td>\n",
       "    </tr>\n",
       "    <tr>\n",
       "      <th>266</th>\n",
       "      <td>0.0</td>\n",
       "      <td>138.0</td>\n",
       "      <td>0</td>\n",
       "      <td>0</td>\n",
       "      <td>0</td>\n",
       "      <td>36.3</td>\n",
       "      <td>0.933</td>\n",
       "      <td>25</td>\n",
       "    </tr>\n",
       "    <tr>\n",
       "      <th>269</th>\n",
       "      <td>2.0</td>\n",
       "      <td>146.0</td>\n",
       "      <td>0</td>\n",
       "      <td>0</td>\n",
       "      <td>0</td>\n",
       "      <td>27.5</td>\n",
       "      <td>0.240</td>\n",
       "      <td>28</td>\n",
       "    </tr>\n",
       "    <tr>\n",
       "      <th>300</th>\n",
       "      <td>0.0</td>\n",
       "      <td>167.0</td>\n",
       "      <td>0</td>\n",
       "      <td>0</td>\n",
       "      <td>0</td>\n",
       "      <td>32.3</td>\n",
       "      <td>0.839</td>\n",
       "      <td>30</td>\n",
       "    </tr>\n",
       "    <tr>\n",
       "      <th>332</th>\n",
       "      <td>1.0</td>\n",
       "      <td>180.0</td>\n",
       "      <td>0</td>\n",
       "      <td>0</td>\n",
       "      <td>0</td>\n",
       "      <td>43.3</td>\n",
       "      <td>0.282</td>\n",
       "      <td>41</td>\n",
       "    </tr>\n",
       "    <tr>\n",
       "      <th>336</th>\n",
       "      <td>0.0</td>\n",
       "      <td>117.0</td>\n",
       "      <td>0</td>\n",
       "      <td>0</td>\n",
       "      <td>0</td>\n",
       "      <td>33.8</td>\n",
       "      <td>0.932</td>\n",
       "      <td>44</td>\n",
       "    </tr>\n",
       "    <tr>\n",
       "      <th>347</th>\n",
       "      <td>3.0</td>\n",
       "      <td>116.0</td>\n",
       "      <td>0</td>\n",
       "      <td>0</td>\n",
       "      <td>0</td>\n",
       "      <td>23.5</td>\n",
       "      <td>0.187</td>\n",
       "      <td>23</td>\n",
       "    </tr>\n",
       "    <tr>\n",
       "      <th>357</th>\n",
       "      <td>13.0</td>\n",
       "      <td>129.0</td>\n",
       "      <td>0</td>\n",
       "      <td>30</td>\n",
       "      <td>0</td>\n",
       "      <td>39.9</td>\n",
       "      <td>0.569</td>\n",
       "      <td>44</td>\n",
       "    </tr>\n",
       "    <tr>\n",
       "      <th>362</th>\n",
       "      <td>5.0</td>\n",
       "      <td>103.0</td>\n",
       "      <td>108</td>\n",
       "      <td>37</td>\n",
       "      <td>0</td>\n",
       "      <td>39.2</td>\n",
       "      <td>0.305</td>\n",
       "      <td>65</td>\n",
       "    </tr>\n",
       "    <tr>\n",
       "      <th>426</th>\n",
       "      <td>0.0</td>\n",
       "      <td>94.0</td>\n",
       "      <td>0</td>\n",
       "      <td>0</td>\n",
       "      <td>0</td>\n",
       "      <td>0.0</td>\n",
       "      <td>0.256</td>\n",
       "      <td>25</td>\n",
       "    </tr>\n",
       "    <tr>\n",
       "      <th>430</th>\n",
       "      <td>2.0</td>\n",
       "      <td>99.0</td>\n",
       "      <td>0</td>\n",
       "      <td>0</td>\n",
       "      <td>0</td>\n",
       "      <td>22.2</td>\n",
       "      <td>0.108</td>\n",
       "      <td>23</td>\n",
       "    </tr>\n",
       "    <tr>\n",
       "      <th>435</th>\n",
       "      <td>0.0</td>\n",
       "      <td>141.0</td>\n",
       "      <td>0</td>\n",
       "      <td>0</td>\n",
       "      <td>0</td>\n",
       "      <td>42.4</td>\n",
       "      <td>0.205</td>\n",
       "      <td>29</td>\n",
       "    </tr>\n",
       "    <tr>\n",
       "      <th>453</th>\n",
       "      <td>2.0</td>\n",
       "      <td>119.0</td>\n",
       "      <td>0</td>\n",
       "      <td>0</td>\n",
       "      <td>0</td>\n",
       "      <td>19.6</td>\n",
       "      <td>0.832</td>\n",
       "      <td>72</td>\n",
       "    </tr>\n",
       "    <tr>\n",
       "      <th>468</th>\n",
       "      <td>8.0</td>\n",
       "      <td>120.0</td>\n",
       "      <td>0</td>\n",
       "      <td>0</td>\n",
       "      <td>0</td>\n",
       "      <td>30.0</td>\n",
       "      <td>0.183</td>\n",
       "      <td>38</td>\n",
       "    </tr>\n",
       "    <tr>\n",
       "      <th>484</th>\n",
       "      <td>0.0</td>\n",
       "      <td>145.0</td>\n",
       "      <td>0</td>\n",
       "      <td>0</td>\n",
       "      <td>0</td>\n",
       "      <td>44.2</td>\n",
       "      <td>0.630</td>\n",
       "      <td>31</td>\n",
       "    </tr>\n",
       "    <tr>\n",
       "      <th>494</th>\n",
       "      <td>3.0</td>\n",
       "      <td>80.0</td>\n",
       "      <td>0</td>\n",
       "      <td>0</td>\n",
       "      <td>0</td>\n",
       "      <td>0.0</td>\n",
       "      <td>0.174</td>\n",
       "      <td>22</td>\n",
       "    </tr>\n",
       "    <tr>\n",
       "      <th>522</th>\n",
       "      <td>6.0</td>\n",
       "      <td>114.0</td>\n",
       "      <td>0</td>\n",
       "      <td>0</td>\n",
       "      <td>0</td>\n",
       "      <td>0.0</td>\n",
       "      <td>0.189</td>\n",
       "      <td>26</td>\n",
       "    </tr>\n",
       "    <tr>\n",
       "      <th>533</th>\n",
       "      <td>6.0</td>\n",
       "      <td>91.0</td>\n",
       "      <td>0</td>\n",
       "      <td>0</td>\n",
       "      <td>0</td>\n",
       "      <td>29.8</td>\n",
       "      <td>0.501</td>\n",
       "      <td>31</td>\n",
       "    </tr>\n",
       "    <tr>\n",
       "      <th>535</th>\n",
       "      <td>4.0</td>\n",
       "      <td>132.0</td>\n",
       "      <td>0</td>\n",
       "      <td>0</td>\n",
       "      <td>0</td>\n",
       "      <td>32.9</td>\n",
       "      <td>0.302</td>\n",
       "      <td>23</td>\n",
       "    </tr>\n",
       "    <tr>\n",
       "      <th>549</th>\n",
       "      <td>4.0</td>\n",
       "      <td>189.0</td>\n",
       "      <td>110</td>\n",
       "      <td>31</td>\n",
       "      <td>0</td>\n",
       "      <td>28.5</td>\n",
       "      <td>0.680</td>\n",
       "      <td>37</td>\n",
       "    </tr>\n",
       "    <tr>\n",
       "      <th>589</th>\n",
       "      <td>0.0</td>\n",
       "      <td>73.0</td>\n",
       "      <td>0</td>\n",
       "      <td>0</td>\n",
       "      <td>0</td>\n",
       "      <td>21.1</td>\n",
       "      <td>0.342</td>\n",
       "      <td>25</td>\n",
       "    </tr>\n",
       "    <tr>\n",
       "      <th>597</th>\n",
       "      <td>1.0</td>\n",
       "      <td>89.0</td>\n",
       "      <td>24</td>\n",
       "      <td>19</td>\n",
       "      <td>25</td>\n",
       "      <td>27.8</td>\n",
       "      <td>0.559</td>\n",
       "      <td>21</td>\n",
       "    </tr>\n",
       "    <tr>\n",
       "      <th>601</th>\n",
       "      <td>6.0</td>\n",
       "      <td>96.0</td>\n",
       "      <td>0</td>\n",
       "      <td>0</td>\n",
       "      <td>0</td>\n",
       "      <td>23.7</td>\n",
       "      <td>0.190</td>\n",
       "      <td>28</td>\n",
       "    </tr>\n",
       "    <tr>\n",
       "      <th>604</th>\n",
       "      <td>4.0</td>\n",
       "      <td>183.0</td>\n",
       "      <td>0</td>\n",
       "      <td>0</td>\n",
       "      <td>0</td>\n",
       "      <td>28.4</td>\n",
       "      <td>0.212</td>\n",
       "      <td>36</td>\n",
       "    </tr>\n",
       "    <tr>\n",
       "      <th>619</th>\n",
       "      <td>0.0</td>\n",
       "      <td>119.0</td>\n",
       "      <td>0</td>\n",
       "      <td>0</td>\n",
       "      <td>0</td>\n",
       "      <td>32.4</td>\n",
       "      <td>0.141</td>\n",
       "      <td>24</td>\n",
       "    </tr>\n",
       "    <tr>\n",
       "      <th>643</th>\n",
       "      <td>4.0</td>\n",
       "      <td>90.0</td>\n",
       "      <td>0</td>\n",
       "      <td>0</td>\n",
       "      <td>0</td>\n",
       "      <td>28.0</td>\n",
       "      <td>0.610</td>\n",
       "      <td>31</td>\n",
       "    </tr>\n",
       "    <tr>\n",
       "      <th>691</th>\n",
       "      <td>13.0</td>\n",
       "      <td>158.0</td>\n",
       "      <td>114</td>\n",
       "      <td>0</td>\n",
       "      <td>0</td>\n",
       "      <td>42.3</td>\n",
       "      <td>0.257</td>\n",
       "      <td>44</td>\n",
       "    </tr>\n",
       "    <tr>\n",
       "      <th>697</th>\n",
       "      <td>0.0</td>\n",
       "      <td>99.0</td>\n",
       "      <td>0</td>\n",
       "      <td>0</td>\n",
       "      <td>0</td>\n",
       "      <td>25.0</td>\n",
       "      <td>0.253</td>\n",
       "      <td>22</td>\n",
       "    </tr>\n",
       "    <tr>\n",
       "      <th>703</th>\n",
       "      <td>2.0</td>\n",
       "      <td>129.0</td>\n",
       "      <td>0</td>\n",
       "      <td>0</td>\n",
       "      <td>0</td>\n",
       "      <td>38.5</td>\n",
       "      <td>0.304</td>\n",
       "      <td>41</td>\n",
       "    </tr>\n",
       "    <tr>\n",
       "      <th>706</th>\n",
       "      <td>10.0</td>\n",
       "      <td>115.0</td>\n",
       "      <td>0</td>\n",
       "      <td>0</td>\n",
       "      <td>0</td>\n",
       "      <td>0.0</td>\n",
       "      <td>0.261</td>\n",
       "      <td>30</td>\n",
       "    </tr>\n",
       "  </tbody>\n",
       "</table>\n",
       "</div>"
      ],
      "text/plain": [
       "     Pregnancies  Glucose  BloodPressure  SkinThickness  Insulin   BMI  \\\n",
       "7           10.0    115.0              0              0        0  35.3   \n",
       "15           7.0    100.0              0              0        0  30.0   \n",
       "18           1.0    103.0             30             38       83  43.3   \n",
       "43           9.0    171.0            110             24      240  45.4   \n",
       "49           7.0    105.0              0              0        0   0.0   \n",
       "60           2.0     84.0              0              0        0   0.0   \n",
       "78           0.0    131.0              0              0        0  43.2   \n",
       "81           2.0     74.0              0              0        0   0.0   \n",
       "84           5.0    137.0            108              0        0  48.8   \n",
       "106          1.0     96.0            122              0        0  22.4   \n",
       "125          1.0     88.0             30             42       99  55.0   \n",
       "172          2.0     87.0              0             23        0  28.9   \n",
       "177          0.0    129.0            110             46      130  67.1   \n",
       "193         11.0    135.0              0              0        0  52.3   \n",
       "222          7.0    119.0              0              0        0  25.2   \n",
       "261          3.0    141.0              0              0        0  30.0   \n",
       "266          0.0    138.0              0              0        0  36.3   \n",
       "269          2.0    146.0              0              0        0  27.5   \n",
       "300          0.0    167.0              0              0        0  32.3   \n",
       "332          1.0    180.0              0              0        0  43.3   \n",
       "336          0.0    117.0              0              0        0  33.8   \n",
       "347          3.0    116.0              0              0        0  23.5   \n",
       "357         13.0    129.0              0             30        0  39.9   \n",
       "362          5.0    103.0            108             37        0  39.2   \n",
       "426          0.0     94.0              0              0        0   0.0   \n",
       "430          2.0     99.0              0              0        0  22.2   \n",
       "435          0.0    141.0              0              0        0  42.4   \n",
       "453          2.0    119.0              0              0        0  19.6   \n",
       "468          8.0    120.0              0              0        0  30.0   \n",
       "484          0.0    145.0              0              0        0  44.2   \n",
       "494          3.0     80.0              0              0        0   0.0   \n",
       "522          6.0    114.0              0              0        0   0.0   \n",
       "533          6.0     91.0              0              0        0  29.8   \n",
       "535          4.0    132.0              0              0        0  32.9   \n",
       "549          4.0    189.0            110             31        0  28.5   \n",
       "589          0.0     73.0              0              0        0  21.1   \n",
       "597          1.0     89.0             24             19       25  27.8   \n",
       "601          6.0     96.0              0              0        0  23.7   \n",
       "604          4.0    183.0              0              0        0  28.4   \n",
       "619          0.0    119.0              0              0        0  32.4   \n",
       "643          4.0     90.0              0              0        0  28.0   \n",
       "691         13.0    158.0            114              0        0  42.3   \n",
       "697          0.0     99.0              0              0        0  25.0   \n",
       "703          2.0    129.0              0              0        0  38.5   \n",
       "706         10.0    115.0              0              0        0   0.0   \n",
       "\n",
       "     DiabetesPedigreeFunction  Age  \n",
       "7                       0.134   29  \n",
       "15                      0.484   32  \n",
       "18                      0.183   33  \n",
       "43                      0.721   54  \n",
       "49                      0.305   24  \n",
       "60                      0.304   21  \n",
       "78                      0.270   26  \n",
       "81                      0.102   22  \n",
       "84                      0.227   37  \n",
       "106                     0.207   27  \n",
       "125                     0.496   26  \n",
       "172                     0.773   25  \n",
       "177                     0.319   26  \n",
       "193                     0.578   40  \n",
       "222                     0.209   37  \n",
       "261                     0.761   27  \n",
       "266                     0.933   25  \n",
       "269                     0.240   28  \n",
       "300                     0.839   30  \n",
       "332                     0.282   41  \n",
       "336                     0.932   44  \n",
       "347                     0.187   23  \n",
       "357                     0.569   44  \n",
       "362                     0.305   65  \n",
       "426                     0.256   25  \n",
       "430                     0.108   23  \n",
       "435                     0.205   29  \n",
       "453                     0.832   72  \n",
       "468                     0.183   38  \n",
       "484                     0.630   31  \n",
       "494                     0.174   22  \n",
       "522                     0.189   26  \n",
       "533                     0.501   31  \n",
       "535                     0.302   23  \n",
       "549                     0.680   37  \n",
       "589                     0.342   25  \n",
       "597                     0.559   21  \n",
       "601                     0.190   28  \n",
       "604                     0.212   36  \n",
       "619                     0.141   24  \n",
       "643                     0.610   31  \n",
       "691                     0.257   44  \n",
       "697                     0.253   22  \n",
       "703                     0.304   41  \n",
       "706                     0.261   30  "
      ]
     },
     "execution_count": 21,
     "metadata": {},
     "output_type": "execute_result"
    }
   ],
   "source": [
    "# Show Outliers:\n",
    "Outliers_df[(Outliers_df['BloodPressure']>Upper_Blo)|(Outliers_df['BloodPressure']<Lower_Blo)] #(45X8)"
   ]
  },
  {
   "cell_type": "code",
   "execution_count": 22,
   "id": "92d0d6c4",
   "metadata": {},
   "outputs": [
    {
     "data": {
      "text/plain": [
       "count    768.000000\n",
       "mean      70.684896\n",
       "std       14.197239\n",
       "min       35.000000\n",
       "25%       62.000000\n",
       "50%       72.000000\n",
       "75%       80.000000\n",
       "max      107.000000\n",
       "Name: BloodPressure, dtype: float64"
      ]
     },
     "execution_count": 22,
     "metadata": {},
     "output_type": "execute_result"
    }
   ],
   "source": [
    "#Treating Using Capping Method:\n",
    "Outliers_df['BloodPressure'] = np.where(Outliers_df['BloodPressure']>Upper_Blo,Upper_Blo,\n",
    "                                 np.where(Outliers_df['BloodPressure']<Lower_Blo,Lower_Blo,Outliers_df['BloodPressure']))\n",
    "Outliers_df['BloodPressure'].describe().T"
   ]
  },
  {
   "cell_type": "markdown",
   "id": "ec153289",
   "metadata": {},
   "source": [
    "### 'SkinThickness':"
   ]
  },
  {
   "cell_type": "code",
   "execution_count": 23,
   "id": "5bbd8323",
   "metadata": {},
   "outputs": [
    {
     "name": "stdout",
     "output_type": "stream",
     "text": [
      "The upper_fence is 80.0 and Lower_fence is -48.0\n"
     ]
    }
   ],
   "source": [
    "# Treating Outliers for column 'SkinThickness' using IQR method: (Outliers_df = 768X8)\n",
    "Q1 = Outliers_df['SkinThickness'].quantile(0.25)\n",
    "Q3 = Outliers_df['SkinThickness'].quantile(0.75)\n",
    "IQR = Q3-Q1\n",
    "Upper_Ski = Q3+1.5*IQR\n",
    "Lower_Ski = Q1-1.5*IQR\n",
    "print(f'The upper_fence is {Upper_Ski} and Lower_fence is {Lower_Ski}')"
   ]
  },
  {
   "cell_type": "code",
   "execution_count": 24,
   "id": "68a26161",
   "metadata": {},
   "outputs": [
    {
     "data": {
      "text/html": [
       "<div>\n",
       "<style scoped>\n",
       "    .dataframe tbody tr th:only-of-type {\n",
       "        vertical-align: middle;\n",
       "    }\n",
       "\n",
       "    .dataframe tbody tr th {\n",
       "        vertical-align: top;\n",
       "    }\n",
       "\n",
       "    .dataframe thead th {\n",
       "        text-align: right;\n",
       "    }\n",
       "</style>\n",
       "<table border=\"1\" class=\"dataframe\">\n",
       "  <thead>\n",
       "    <tr style=\"text-align: right;\">\n",
       "      <th></th>\n",
       "      <th>Pregnancies</th>\n",
       "      <th>Glucose</th>\n",
       "      <th>BloodPressure</th>\n",
       "      <th>SkinThickness</th>\n",
       "      <th>Insulin</th>\n",
       "      <th>BMI</th>\n",
       "      <th>DiabetesPedigreeFunction</th>\n",
       "      <th>Age</th>\n",
       "    </tr>\n",
       "  </thead>\n",
       "  <tbody>\n",
       "    <tr>\n",
       "      <th>579</th>\n",
       "      <td>2.0</td>\n",
       "      <td>197.0</td>\n",
       "      <td>70.0</td>\n",
       "      <td>99</td>\n",
       "      <td>0</td>\n",
       "      <td>34.7</td>\n",
       "      <td>0.575</td>\n",
       "      <td>62</td>\n",
       "    </tr>\n",
       "  </tbody>\n",
       "</table>\n",
       "</div>"
      ],
      "text/plain": [
       "     Pregnancies  Glucose  BloodPressure  SkinThickness  Insulin   BMI  \\\n",
       "579          2.0    197.0           70.0             99        0  34.7   \n",
       "\n",
       "     DiabetesPedigreeFunction  Age  \n",
       "579                     0.575   62  "
      ]
     },
     "execution_count": 24,
     "metadata": {},
     "output_type": "execute_result"
    }
   ],
   "source": [
    "# Show Outliers:\n",
    "Outliers_df[(Outliers_df['SkinThickness']>Upper_Ski)] #(1X8)"
   ]
  },
  {
   "cell_type": "code",
   "execution_count": 25,
   "id": "13ff9fad",
   "metadata": {},
   "outputs": [
    {
     "data": {
      "text/plain": [
       "count    768.000000\n",
       "mean      20.511719\n",
       "std       15.844744\n",
       "min        0.000000\n",
       "25%        0.000000\n",
       "50%       23.000000\n",
       "75%       32.000000\n",
       "max       80.000000\n",
       "Name: SkinThickness, dtype: float64"
      ]
     },
     "execution_count": 25,
     "metadata": {},
     "output_type": "execute_result"
    }
   ],
   "source": [
    "#Treating Using Capping Method:\n",
    "Outliers_df['SkinThickness'] = np.where(Outliers_df['SkinThickness']>Upper_Ski,Upper_Ski,Outliers_df['SkinThickness'])\n",
    "Outliers_df['SkinThickness'].describe().T"
   ]
  },
  {
   "cell_type": "markdown",
   "id": "97c8f1de",
   "metadata": {},
   "source": [
    "### 'Insulin' :"
   ]
  },
  {
   "cell_type": "code",
   "execution_count": 26,
   "id": "3e7b66a2",
   "metadata": {},
   "outputs": [
    {
     "name": "stdout",
     "output_type": "stream",
     "text": [
      "The upper_fence is 318.125 and Lower_fence is -190.875\n"
     ]
    }
   ],
   "source": [
    "# Treating Outliers for column 'Insulin' using IQR method: (Outliers_df = 768X8)\n",
    "Q1 = Outliers_df['Insulin'].quantile(0.25)\n",
    "Q3 = Outliers_df['Insulin'].quantile(0.75)\n",
    "IQR = Q3-Q1\n",
    "Upper_Ins = Q3+1.5*IQR\n",
    "Lower_Ins = Q1-1.5*IQR\n",
    "print(f'The upper_fence is {Upper_Ins} and Lower_fence is {Lower_Ins}')"
   ]
  },
  {
   "cell_type": "code",
   "execution_count": 27,
   "id": "1423c594",
   "metadata": {},
   "outputs": [
    {
     "data": {
      "text/html": [
       "<div>\n",
       "<style scoped>\n",
       "    .dataframe tbody tr th:only-of-type {\n",
       "        vertical-align: middle;\n",
       "    }\n",
       "\n",
       "    .dataframe tbody tr th {\n",
       "        vertical-align: top;\n",
       "    }\n",
       "\n",
       "    .dataframe thead th {\n",
       "        text-align: right;\n",
       "    }\n",
       "</style>\n",
       "<table border=\"1\" class=\"dataframe\">\n",
       "  <thead>\n",
       "    <tr style=\"text-align: right;\">\n",
       "      <th></th>\n",
       "      <th>Pregnancies</th>\n",
       "      <th>Glucose</th>\n",
       "      <th>BloodPressure</th>\n",
       "      <th>SkinThickness</th>\n",
       "      <th>Insulin</th>\n",
       "      <th>BMI</th>\n",
       "      <th>DiabetesPedigreeFunction</th>\n",
       "      <th>Age</th>\n",
       "    </tr>\n",
       "  </thead>\n",
       "  <tbody>\n",
       "    <tr>\n",
       "      <th>8</th>\n",
       "      <td>2.0</td>\n",
       "      <td>197.0</td>\n",
       "      <td>70.0</td>\n",
       "      <td>45.0</td>\n",
       "      <td>543</td>\n",
       "      <td>30.5</td>\n",
       "      <td>0.158</td>\n",
       "      <td>53</td>\n",
       "    </tr>\n",
       "    <tr>\n",
       "      <th>13</th>\n",
       "      <td>1.0</td>\n",
       "      <td>189.0</td>\n",
       "      <td>60.0</td>\n",
       "      <td>23.0</td>\n",
       "      <td>846</td>\n",
       "      <td>30.1</td>\n",
       "      <td>0.398</td>\n",
       "      <td>59</td>\n",
       "    </tr>\n",
       "    <tr>\n",
       "      <th>54</th>\n",
       "      <td>7.0</td>\n",
       "      <td>150.0</td>\n",
       "      <td>66.0</td>\n",
       "      <td>42.0</td>\n",
       "      <td>342</td>\n",
       "      <td>34.7</td>\n",
       "      <td>0.718</td>\n",
       "      <td>42</td>\n",
       "    </tr>\n",
       "    <tr>\n",
       "      <th>111</th>\n",
       "      <td>8.0</td>\n",
       "      <td>155.0</td>\n",
       "      <td>62.0</td>\n",
       "      <td>26.0</td>\n",
       "      <td>495</td>\n",
       "      <td>34.0</td>\n",
       "      <td>0.543</td>\n",
       "      <td>46</td>\n",
       "    </tr>\n",
       "    <tr>\n",
       "      <th>139</th>\n",
       "      <td>5.0</td>\n",
       "      <td>105.0</td>\n",
       "      <td>72.0</td>\n",
       "      <td>29.0</td>\n",
       "      <td>325</td>\n",
       "      <td>36.9</td>\n",
       "      <td>0.159</td>\n",
       "      <td>28</td>\n",
       "    </tr>\n",
       "    <tr>\n",
       "      <th>153</th>\n",
       "      <td>1.0</td>\n",
       "      <td>153.0</td>\n",
       "      <td>82.0</td>\n",
       "      <td>42.0</td>\n",
       "      <td>485</td>\n",
       "      <td>40.6</td>\n",
       "      <td>0.687</td>\n",
       "      <td>23</td>\n",
       "    </tr>\n",
       "    <tr>\n",
       "      <th>186</th>\n",
       "      <td>8.0</td>\n",
       "      <td>181.0</td>\n",
       "      <td>68.0</td>\n",
       "      <td>36.0</td>\n",
       "      <td>495</td>\n",
       "      <td>30.1</td>\n",
       "      <td>0.615</td>\n",
       "      <td>60</td>\n",
       "    </tr>\n",
       "    <tr>\n",
       "      <th>220</th>\n",
       "      <td>0.0</td>\n",
       "      <td>177.0</td>\n",
       "      <td>60.0</td>\n",
       "      <td>29.0</td>\n",
       "      <td>478</td>\n",
       "      <td>34.6</td>\n",
       "      <td>1.072</td>\n",
       "      <td>21</td>\n",
       "    </tr>\n",
       "    <tr>\n",
       "      <th>228</th>\n",
       "      <td>4.0</td>\n",
       "      <td>197.0</td>\n",
       "      <td>70.0</td>\n",
       "      <td>39.0</td>\n",
       "      <td>744</td>\n",
       "      <td>36.7</td>\n",
       "      <td>2.329</td>\n",
       "      <td>31</td>\n",
       "    </tr>\n",
       "    <tr>\n",
       "      <th>231</th>\n",
       "      <td>6.0</td>\n",
       "      <td>134.0</td>\n",
       "      <td>80.0</td>\n",
       "      <td>37.0</td>\n",
       "      <td>370</td>\n",
       "      <td>46.2</td>\n",
       "      <td>0.238</td>\n",
       "      <td>46</td>\n",
       "    </tr>\n",
       "    <tr>\n",
       "      <th>247</th>\n",
       "      <td>0.0</td>\n",
       "      <td>165.0</td>\n",
       "      <td>90.0</td>\n",
       "      <td>33.0</td>\n",
       "      <td>680</td>\n",
       "      <td>52.3</td>\n",
       "      <td>0.427</td>\n",
       "      <td>23</td>\n",
       "    </tr>\n",
       "    <tr>\n",
       "      <th>248</th>\n",
       "      <td>9.0</td>\n",
       "      <td>124.0</td>\n",
       "      <td>70.0</td>\n",
       "      <td>33.0</td>\n",
       "      <td>402</td>\n",
       "      <td>35.4</td>\n",
       "      <td>0.282</td>\n",
       "      <td>34</td>\n",
       "    </tr>\n",
       "    <tr>\n",
       "      <th>258</th>\n",
       "      <td>1.0</td>\n",
       "      <td>193.0</td>\n",
       "      <td>50.0</td>\n",
       "      <td>16.0</td>\n",
       "      <td>375</td>\n",
       "      <td>25.9</td>\n",
       "      <td>0.655</td>\n",
       "      <td>24</td>\n",
       "    </tr>\n",
       "    <tr>\n",
       "      <th>286</th>\n",
       "      <td>5.0</td>\n",
       "      <td>155.0</td>\n",
       "      <td>84.0</td>\n",
       "      <td>44.0</td>\n",
       "      <td>545</td>\n",
       "      <td>38.7</td>\n",
       "      <td>0.619</td>\n",
       "      <td>34</td>\n",
       "    </tr>\n",
       "    <tr>\n",
       "      <th>296</th>\n",
       "      <td>2.0</td>\n",
       "      <td>146.0</td>\n",
       "      <td>70.0</td>\n",
       "      <td>38.0</td>\n",
       "      <td>360</td>\n",
       "      <td>28.0</td>\n",
       "      <td>0.337</td>\n",
       "      <td>29</td>\n",
       "    </tr>\n",
       "    <tr>\n",
       "      <th>360</th>\n",
       "      <td>5.0</td>\n",
       "      <td>189.0</td>\n",
       "      <td>64.0</td>\n",
       "      <td>33.0</td>\n",
       "      <td>325</td>\n",
       "      <td>31.2</td>\n",
       "      <td>0.583</td>\n",
       "      <td>29</td>\n",
       "    </tr>\n",
       "    <tr>\n",
       "      <th>370</th>\n",
       "      <td>3.0</td>\n",
       "      <td>173.0</td>\n",
       "      <td>82.0</td>\n",
       "      <td>48.0</td>\n",
       "      <td>465</td>\n",
       "      <td>38.4</td>\n",
       "      <td>2.137</td>\n",
       "      <td>25</td>\n",
       "    </tr>\n",
       "    <tr>\n",
       "      <th>375</th>\n",
       "      <td>12.0</td>\n",
       "      <td>140.0</td>\n",
       "      <td>82.0</td>\n",
       "      <td>43.0</td>\n",
       "      <td>325</td>\n",
       "      <td>39.2</td>\n",
       "      <td>0.528</td>\n",
       "      <td>58</td>\n",
       "    </tr>\n",
       "    <tr>\n",
       "      <th>392</th>\n",
       "      <td>1.0</td>\n",
       "      <td>131.0</td>\n",
       "      <td>64.0</td>\n",
       "      <td>14.0</td>\n",
       "      <td>415</td>\n",
       "      <td>23.7</td>\n",
       "      <td>0.389</td>\n",
       "      <td>21</td>\n",
       "    </tr>\n",
       "    <tr>\n",
       "      <th>409</th>\n",
       "      <td>1.0</td>\n",
       "      <td>172.0</td>\n",
       "      <td>68.0</td>\n",
       "      <td>49.0</td>\n",
       "      <td>579</td>\n",
       "      <td>42.4</td>\n",
       "      <td>0.702</td>\n",
       "      <td>28</td>\n",
       "    </tr>\n",
       "    <tr>\n",
       "      <th>415</th>\n",
       "      <td>3.0</td>\n",
       "      <td>173.0</td>\n",
       "      <td>84.0</td>\n",
       "      <td>33.0</td>\n",
       "      <td>474</td>\n",
       "      <td>35.7</td>\n",
       "      <td>0.258</td>\n",
       "      <td>22</td>\n",
       "    </tr>\n",
       "    <tr>\n",
       "      <th>480</th>\n",
       "      <td>3.0</td>\n",
       "      <td>158.0</td>\n",
       "      <td>70.0</td>\n",
       "      <td>30.0</td>\n",
       "      <td>328</td>\n",
       "      <td>35.5</td>\n",
       "      <td>0.344</td>\n",
       "      <td>35</td>\n",
       "    </tr>\n",
       "    <tr>\n",
       "      <th>486</th>\n",
       "      <td>1.0</td>\n",
       "      <td>139.0</td>\n",
       "      <td>62.0</td>\n",
       "      <td>41.0</td>\n",
       "      <td>480</td>\n",
       "      <td>40.7</td>\n",
       "      <td>0.536</td>\n",
       "      <td>21</td>\n",
       "    </tr>\n",
       "    <tr>\n",
       "      <th>519</th>\n",
       "      <td>6.0</td>\n",
       "      <td>129.0</td>\n",
       "      <td>90.0</td>\n",
       "      <td>7.0</td>\n",
       "      <td>326</td>\n",
       "      <td>19.6</td>\n",
       "      <td>0.582</td>\n",
       "      <td>60</td>\n",
       "    </tr>\n",
       "    <tr>\n",
       "      <th>574</th>\n",
       "      <td>1.0</td>\n",
       "      <td>143.0</td>\n",
       "      <td>86.0</td>\n",
       "      <td>30.0</td>\n",
       "      <td>330</td>\n",
       "      <td>30.1</td>\n",
       "      <td>0.892</td>\n",
       "      <td>23</td>\n",
       "    </tr>\n",
       "    <tr>\n",
       "      <th>584</th>\n",
       "      <td>8.0</td>\n",
       "      <td>124.0</td>\n",
       "      <td>76.0</td>\n",
       "      <td>24.0</td>\n",
       "      <td>600</td>\n",
       "      <td>28.7</td>\n",
       "      <td>0.687</td>\n",
       "      <td>52</td>\n",
       "    </tr>\n",
       "    <tr>\n",
       "      <th>612</th>\n",
       "      <td>7.0</td>\n",
       "      <td>168.0</td>\n",
       "      <td>88.0</td>\n",
       "      <td>42.0</td>\n",
       "      <td>321</td>\n",
       "      <td>38.2</td>\n",
       "      <td>0.787</td>\n",
       "      <td>40</td>\n",
       "    </tr>\n",
       "    <tr>\n",
       "      <th>645</th>\n",
       "      <td>2.0</td>\n",
       "      <td>157.0</td>\n",
       "      <td>74.0</td>\n",
       "      <td>35.0</td>\n",
       "      <td>440</td>\n",
       "      <td>39.4</td>\n",
       "      <td>0.134</td>\n",
       "      <td>30</td>\n",
       "    </tr>\n",
       "    <tr>\n",
       "      <th>655</th>\n",
       "      <td>2.0</td>\n",
       "      <td>155.0</td>\n",
       "      <td>52.0</td>\n",
       "      <td>27.0</td>\n",
       "      <td>540</td>\n",
       "      <td>38.7</td>\n",
       "      <td>0.240</td>\n",
       "      <td>25</td>\n",
       "    </tr>\n",
       "    <tr>\n",
       "      <th>695</th>\n",
       "      <td>7.0</td>\n",
       "      <td>142.0</td>\n",
       "      <td>90.0</td>\n",
       "      <td>24.0</td>\n",
       "      <td>480</td>\n",
       "      <td>30.4</td>\n",
       "      <td>0.128</td>\n",
       "      <td>43</td>\n",
       "    </tr>\n",
       "    <tr>\n",
       "      <th>707</th>\n",
       "      <td>2.0</td>\n",
       "      <td>127.0</td>\n",
       "      <td>46.0</td>\n",
       "      <td>21.0</td>\n",
       "      <td>335</td>\n",
       "      <td>34.4</td>\n",
       "      <td>0.176</td>\n",
       "      <td>22</td>\n",
       "    </tr>\n",
       "    <tr>\n",
       "      <th>710</th>\n",
       "      <td>3.0</td>\n",
       "      <td>158.0</td>\n",
       "      <td>64.0</td>\n",
       "      <td>13.0</td>\n",
       "      <td>387</td>\n",
       "      <td>31.2</td>\n",
       "      <td>0.295</td>\n",
       "      <td>24</td>\n",
       "    </tr>\n",
       "    <tr>\n",
       "      <th>715</th>\n",
       "      <td>7.0</td>\n",
       "      <td>187.0</td>\n",
       "      <td>50.0</td>\n",
       "      <td>33.0</td>\n",
       "      <td>392</td>\n",
       "      <td>33.9</td>\n",
       "      <td>0.826</td>\n",
       "      <td>34</td>\n",
       "    </tr>\n",
       "    <tr>\n",
       "      <th>753</th>\n",
       "      <td>0.0</td>\n",
       "      <td>181.0</td>\n",
       "      <td>88.0</td>\n",
       "      <td>44.0</td>\n",
       "      <td>510</td>\n",
       "      <td>43.3</td>\n",
       "      <td>0.222</td>\n",
       "      <td>26</td>\n",
       "    </tr>\n",
       "  </tbody>\n",
       "</table>\n",
       "</div>"
      ],
      "text/plain": [
       "     Pregnancies  Glucose  BloodPressure  SkinThickness  Insulin   BMI  \\\n",
       "8            2.0    197.0           70.0           45.0      543  30.5   \n",
       "13           1.0    189.0           60.0           23.0      846  30.1   \n",
       "54           7.0    150.0           66.0           42.0      342  34.7   \n",
       "111          8.0    155.0           62.0           26.0      495  34.0   \n",
       "139          5.0    105.0           72.0           29.0      325  36.9   \n",
       "153          1.0    153.0           82.0           42.0      485  40.6   \n",
       "186          8.0    181.0           68.0           36.0      495  30.1   \n",
       "220          0.0    177.0           60.0           29.0      478  34.6   \n",
       "228          4.0    197.0           70.0           39.0      744  36.7   \n",
       "231          6.0    134.0           80.0           37.0      370  46.2   \n",
       "247          0.0    165.0           90.0           33.0      680  52.3   \n",
       "248          9.0    124.0           70.0           33.0      402  35.4   \n",
       "258          1.0    193.0           50.0           16.0      375  25.9   \n",
       "286          5.0    155.0           84.0           44.0      545  38.7   \n",
       "296          2.0    146.0           70.0           38.0      360  28.0   \n",
       "360          5.0    189.0           64.0           33.0      325  31.2   \n",
       "370          3.0    173.0           82.0           48.0      465  38.4   \n",
       "375         12.0    140.0           82.0           43.0      325  39.2   \n",
       "392          1.0    131.0           64.0           14.0      415  23.7   \n",
       "409          1.0    172.0           68.0           49.0      579  42.4   \n",
       "415          3.0    173.0           84.0           33.0      474  35.7   \n",
       "480          3.0    158.0           70.0           30.0      328  35.5   \n",
       "486          1.0    139.0           62.0           41.0      480  40.7   \n",
       "519          6.0    129.0           90.0            7.0      326  19.6   \n",
       "574          1.0    143.0           86.0           30.0      330  30.1   \n",
       "584          8.0    124.0           76.0           24.0      600  28.7   \n",
       "612          7.0    168.0           88.0           42.0      321  38.2   \n",
       "645          2.0    157.0           74.0           35.0      440  39.4   \n",
       "655          2.0    155.0           52.0           27.0      540  38.7   \n",
       "695          7.0    142.0           90.0           24.0      480  30.4   \n",
       "707          2.0    127.0           46.0           21.0      335  34.4   \n",
       "710          3.0    158.0           64.0           13.0      387  31.2   \n",
       "715          7.0    187.0           50.0           33.0      392  33.9   \n",
       "753          0.0    181.0           88.0           44.0      510  43.3   \n",
       "\n",
       "     DiabetesPedigreeFunction  Age  \n",
       "8                       0.158   53  \n",
       "13                      0.398   59  \n",
       "54                      0.718   42  \n",
       "111                     0.543   46  \n",
       "139                     0.159   28  \n",
       "153                     0.687   23  \n",
       "186                     0.615   60  \n",
       "220                     1.072   21  \n",
       "228                     2.329   31  \n",
       "231                     0.238   46  \n",
       "247                     0.427   23  \n",
       "248                     0.282   34  \n",
       "258                     0.655   24  \n",
       "286                     0.619   34  \n",
       "296                     0.337   29  \n",
       "360                     0.583   29  \n",
       "370                     2.137   25  \n",
       "375                     0.528   58  \n",
       "392                     0.389   21  \n",
       "409                     0.702   28  \n",
       "415                     0.258   22  \n",
       "480                     0.344   35  \n",
       "486                     0.536   21  \n",
       "519                     0.582   60  \n",
       "574                     0.892   23  \n",
       "584                     0.687   52  \n",
       "612                     0.787   40  \n",
       "645                     0.134   30  \n",
       "655                     0.240   25  \n",
       "695                     0.128   43  \n",
       "707                     0.176   22  \n",
       "710                     0.295   24  \n",
       "715                     0.826   34  \n",
       "753                     0.222   26  "
      ]
     },
     "execution_count": 27,
     "metadata": {},
     "output_type": "execute_result"
    }
   ],
   "source": [
    "# Show Outliers:\n",
    "Outliers_df[(Outliers_df['Insulin']>Upper_Ins)] #(1X8)"
   ]
  },
  {
   "cell_type": "code",
   "execution_count": 28,
   "id": "7dd45aab",
   "metadata": {},
   "outputs": [
    {
     "data": {
      "text/plain": [
       "count    768.000000\n",
       "mean      73.652669\n",
       "std       93.576029\n",
       "min        0.000000\n",
       "25%        0.000000\n",
       "50%       30.500000\n",
       "75%      127.250000\n",
       "max      318.125000\n",
       "Name: Insulin, dtype: float64"
      ]
     },
     "execution_count": 28,
     "metadata": {},
     "output_type": "execute_result"
    }
   ],
   "source": [
    "#Treating Using Capping Method:\n",
    "Outliers_df['Insulin'] = np.where(Outliers_df['Insulin']>Upper_Ins,Upper_Ins,Outliers_df['Insulin'])\n",
    "Outliers_df['Insulin'].describe().T"
   ]
  },
  {
   "cell_type": "markdown",
   "id": "b76036fa",
   "metadata": {},
   "source": [
    "### 'BMI' :"
   ]
  },
  {
   "cell_type": "code",
   "execution_count": 29,
   "id": "9fe59b1b",
   "metadata": {},
   "outputs": [
    {
     "name": "stdout",
     "output_type": "stream",
     "text": [
      "The upper_fence is 50.550000000000004 and Lower_fence is 13.35\n"
     ]
    }
   ],
   "source": [
    "# Treating Outliers for column 'Insulin' using IQR method: (Outliers_df = 768X8)\n",
    "Q1 = Outliers_df['BMI'].quantile(0.25)\n",
    "Q3 = Outliers_df['BMI'].quantile(0.75)\n",
    "IQR = Q3-Q1\n",
    "Upper_BMI = Q3+1.5*IQR\n",
    "Lower_BMI = Q1-1.5*IQR\n",
    "print(f'The upper_fence is {Upper_BMI} and Lower_fence is {Lower_BMI}')"
   ]
  },
  {
   "cell_type": "code",
   "execution_count": 30,
   "id": "a6fc3c41",
   "metadata": {},
   "outputs": [
    {
     "data": {
      "text/html": [
       "<div>\n",
       "<style scoped>\n",
       "    .dataframe tbody tr th:only-of-type {\n",
       "        vertical-align: middle;\n",
       "    }\n",
       "\n",
       "    .dataframe tbody tr th {\n",
       "        vertical-align: top;\n",
       "    }\n",
       "\n",
       "    .dataframe thead th {\n",
       "        text-align: right;\n",
       "    }\n",
       "</style>\n",
       "<table border=\"1\" class=\"dataframe\">\n",
       "  <thead>\n",
       "    <tr style=\"text-align: right;\">\n",
       "      <th></th>\n",
       "      <th>Pregnancies</th>\n",
       "      <th>Glucose</th>\n",
       "      <th>BloodPressure</th>\n",
       "      <th>SkinThickness</th>\n",
       "      <th>Insulin</th>\n",
       "      <th>BMI</th>\n",
       "      <th>DiabetesPedigreeFunction</th>\n",
       "      <th>Age</th>\n",
       "    </tr>\n",
       "  </thead>\n",
       "  <tbody>\n",
       "    <tr>\n",
       "      <th>9</th>\n",
       "      <td>8.0</td>\n",
       "      <td>125.0</td>\n",
       "      <td>96.0</td>\n",
       "      <td>0.0</td>\n",
       "      <td>0.000</td>\n",
       "      <td>0.0</td>\n",
       "      <td>0.232</td>\n",
       "      <td>54</td>\n",
       "    </tr>\n",
       "    <tr>\n",
       "      <th>49</th>\n",
       "      <td>7.0</td>\n",
       "      <td>105.0</td>\n",
       "      <td>35.0</td>\n",
       "      <td>0.0</td>\n",
       "      <td>0.000</td>\n",
       "      <td>0.0</td>\n",
       "      <td>0.305</td>\n",
       "      <td>24</td>\n",
       "    </tr>\n",
       "    <tr>\n",
       "      <th>60</th>\n",
       "      <td>2.0</td>\n",
       "      <td>84.0</td>\n",
       "      <td>35.0</td>\n",
       "      <td>0.0</td>\n",
       "      <td>0.000</td>\n",
       "      <td>0.0</td>\n",
       "      <td>0.304</td>\n",
       "      <td>21</td>\n",
       "    </tr>\n",
       "    <tr>\n",
       "      <th>81</th>\n",
       "      <td>2.0</td>\n",
       "      <td>74.0</td>\n",
       "      <td>35.0</td>\n",
       "      <td>0.0</td>\n",
       "      <td>0.000</td>\n",
       "      <td>0.0</td>\n",
       "      <td>0.102</td>\n",
       "      <td>22</td>\n",
       "    </tr>\n",
       "    <tr>\n",
       "      <th>120</th>\n",
       "      <td>0.0</td>\n",
       "      <td>162.0</td>\n",
       "      <td>76.0</td>\n",
       "      <td>56.0</td>\n",
       "      <td>100.000</td>\n",
       "      <td>53.2</td>\n",
       "      <td>0.759</td>\n",
       "      <td>25</td>\n",
       "    </tr>\n",
       "    <tr>\n",
       "      <th>125</th>\n",
       "      <td>1.0</td>\n",
       "      <td>88.0</td>\n",
       "      <td>35.0</td>\n",
       "      <td>42.0</td>\n",
       "      <td>99.000</td>\n",
       "      <td>55.0</td>\n",
       "      <td>0.496</td>\n",
       "      <td>26</td>\n",
       "    </tr>\n",
       "    <tr>\n",
       "      <th>145</th>\n",
       "      <td>0.0</td>\n",
       "      <td>102.0</td>\n",
       "      <td>75.0</td>\n",
       "      <td>23.0</td>\n",
       "      <td>0.000</td>\n",
       "      <td>0.0</td>\n",
       "      <td>0.572</td>\n",
       "      <td>21</td>\n",
       "    </tr>\n",
       "    <tr>\n",
       "      <th>177</th>\n",
       "      <td>0.0</td>\n",
       "      <td>129.0</td>\n",
       "      <td>107.0</td>\n",
       "      <td>46.0</td>\n",
       "      <td>130.000</td>\n",
       "      <td>67.1</td>\n",
       "      <td>0.319</td>\n",
       "      <td>26</td>\n",
       "    </tr>\n",
       "    <tr>\n",
       "      <th>193</th>\n",
       "      <td>11.0</td>\n",
       "      <td>135.0</td>\n",
       "      <td>35.0</td>\n",
       "      <td>0.0</td>\n",
       "      <td>0.000</td>\n",
       "      <td>52.3</td>\n",
       "      <td>0.578</td>\n",
       "      <td>40</td>\n",
       "    </tr>\n",
       "    <tr>\n",
       "      <th>247</th>\n",
       "      <td>0.0</td>\n",
       "      <td>165.0</td>\n",
       "      <td>90.0</td>\n",
       "      <td>33.0</td>\n",
       "      <td>318.125</td>\n",
       "      <td>52.3</td>\n",
       "      <td>0.427</td>\n",
       "      <td>23</td>\n",
       "    </tr>\n",
       "    <tr>\n",
       "      <th>303</th>\n",
       "      <td>5.0</td>\n",
       "      <td>115.0</td>\n",
       "      <td>98.0</td>\n",
       "      <td>0.0</td>\n",
       "      <td>0.000</td>\n",
       "      <td>52.9</td>\n",
       "      <td>0.209</td>\n",
       "      <td>28</td>\n",
       "    </tr>\n",
       "    <tr>\n",
       "      <th>371</th>\n",
       "      <td>0.0</td>\n",
       "      <td>118.0</td>\n",
       "      <td>64.0</td>\n",
       "      <td>23.0</td>\n",
       "      <td>89.000</td>\n",
       "      <td>0.0</td>\n",
       "      <td>1.731</td>\n",
       "      <td>21</td>\n",
       "    </tr>\n",
       "    <tr>\n",
       "      <th>426</th>\n",
       "      <td>0.0</td>\n",
       "      <td>94.0</td>\n",
       "      <td>35.0</td>\n",
       "      <td>0.0</td>\n",
       "      <td>0.000</td>\n",
       "      <td>0.0</td>\n",
       "      <td>0.256</td>\n",
       "      <td>25</td>\n",
       "    </tr>\n",
       "    <tr>\n",
       "      <th>445</th>\n",
       "      <td>0.0</td>\n",
       "      <td>180.0</td>\n",
       "      <td>78.0</td>\n",
       "      <td>63.0</td>\n",
       "      <td>14.000</td>\n",
       "      <td>59.4</td>\n",
       "      <td>2.420</td>\n",
       "      <td>25</td>\n",
       "    </tr>\n",
       "    <tr>\n",
       "      <th>494</th>\n",
       "      <td>3.0</td>\n",
       "      <td>80.0</td>\n",
       "      <td>35.0</td>\n",
       "      <td>0.0</td>\n",
       "      <td>0.000</td>\n",
       "      <td>0.0</td>\n",
       "      <td>0.174</td>\n",
       "      <td>22</td>\n",
       "    </tr>\n",
       "    <tr>\n",
       "      <th>522</th>\n",
       "      <td>6.0</td>\n",
       "      <td>114.0</td>\n",
       "      <td>35.0</td>\n",
       "      <td>0.0</td>\n",
       "      <td>0.000</td>\n",
       "      <td>0.0</td>\n",
       "      <td>0.189</td>\n",
       "      <td>26</td>\n",
       "    </tr>\n",
       "    <tr>\n",
       "      <th>673</th>\n",
       "      <td>3.0</td>\n",
       "      <td>123.0</td>\n",
       "      <td>100.0</td>\n",
       "      <td>35.0</td>\n",
       "      <td>240.000</td>\n",
       "      <td>57.3</td>\n",
       "      <td>0.880</td>\n",
       "      <td>22</td>\n",
       "    </tr>\n",
       "    <tr>\n",
       "      <th>684</th>\n",
       "      <td>5.0</td>\n",
       "      <td>136.0</td>\n",
       "      <td>82.0</td>\n",
       "      <td>0.0</td>\n",
       "      <td>0.000</td>\n",
       "      <td>0.0</td>\n",
       "      <td>0.640</td>\n",
       "      <td>69</td>\n",
       "    </tr>\n",
       "    <tr>\n",
       "      <th>706</th>\n",
       "      <td>10.0</td>\n",
       "      <td>115.0</td>\n",
       "      <td>35.0</td>\n",
       "      <td>0.0</td>\n",
       "      <td>0.000</td>\n",
       "      <td>0.0</td>\n",
       "      <td>0.261</td>\n",
       "      <td>30</td>\n",
       "    </tr>\n",
       "  </tbody>\n",
       "</table>\n",
       "</div>"
      ],
      "text/plain": [
       "     Pregnancies  Glucose  BloodPressure  SkinThickness  Insulin   BMI  \\\n",
       "9            8.0    125.0           96.0            0.0    0.000   0.0   \n",
       "49           7.0    105.0           35.0            0.0    0.000   0.0   \n",
       "60           2.0     84.0           35.0            0.0    0.000   0.0   \n",
       "81           2.0     74.0           35.0            0.0    0.000   0.0   \n",
       "120          0.0    162.0           76.0           56.0  100.000  53.2   \n",
       "125          1.0     88.0           35.0           42.0   99.000  55.0   \n",
       "145          0.0    102.0           75.0           23.0    0.000   0.0   \n",
       "177          0.0    129.0          107.0           46.0  130.000  67.1   \n",
       "193         11.0    135.0           35.0            0.0    0.000  52.3   \n",
       "247          0.0    165.0           90.0           33.0  318.125  52.3   \n",
       "303          5.0    115.0           98.0            0.0    0.000  52.9   \n",
       "371          0.0    118.0           64.0           23.0   89.000   0.0   \n",
       "426          0.0     94.0           35.0            0.0    0.000   0.0   \n",
       "445          0.0    180.0           78.0           63.0   14.000  59.4   \n",
       "494          3.0     80.0           35.0            0.0    0.000   0.0   \n",
       "522          6.0    114.0           35.0            0.0    0.000   0.0   \n",
       "673          3.0    123.0          100.0           35.0  240.000  57.3   \n",
       "684          5.0    136.0           82.0            0.0    0.000   0.0   \n",
       "706         10.0    115.0           35.0            0.0    0.000   0.0   \n",
       "\n",
       "     DiabetesPedigreeFunction  Age  \n",
       "9                       0.232   54  \n",
       "49                      0.305   24  \n",
       "60                      0.304   21  \n",
       "81                      0.102   22  \n",
       "120                     0.759   25  \n",
       "125                     0.496   26  \n",
       "145                     0.572   21  \n",
       "177                     0.319   26  \n",
       "193                     0.578   40  \n",
       "247                     0.427   23  \n",
       "303                     0.209   28  \n",
       "371                     1.731   21  \n",
       "426                     0.256   25  \n",
       "445                     2.420   25  \n",
       "494                     0.174   22  \n",
       "522                     0.189   26  \n",
       "673                     0.880   22  \n",
       "684                     0.640   69  \n",
       "706                     0.261   30  "
      ]
     },
     "execution_count": 30,
     "metadata": {},
     "output_type": "execute_result"
    }
   ],
   "source": [
    "# Show Outliers:\n",
    "Outliers_df[(Outliers_df['BMI']>Upper_BMI)|(Outliers_df['BMI']<Lower_BMI)] #(19X8)"
   ]
  },
  {
   "cell_type": "code",
   "execution_count": 31,
   "id": "247a7820",
   "metadata": {},
   "outputs": [
    {
     "data": {
      "text/plain": [
       "count    768.000000\n",
       "mean      32.125065\n",
       "std        7.049584\n",
       "min       13.350000\n",
       "25%       27.300000\n",
       "50%       32.000000\n",
       "75%       36.600000\n",
       "max       50.550000\n",
       "Name: BMI, dtype: float64"
      ]
     },
     "execution_count": 31,
     "metadata": {},
     "output_type": "execute_result"
    }
   ],
   "source": [
    "#Treating Using Capping Method:\n",
    "Outliers_df['BMI'] = np.where(Outliers_df['BMI']>Upper_BMI,Upper_BMI,\n",
    "                             np.where(Outliers_df['BMI']<Lower_BMI,Lower_BMI,Outliers_df['BMI']))\n",
    "Outliers_df['BMI'].describe().T"
   ]
  },
  {
   "cell_type": "markdown",
   "id": "65914ac8",
   "metadata": {},
   "source": [
    "### 'DiabetesPedigreeFunction' :"
   ]
  },
  {
   "cell_type": "code",
   "execution_count": 32,
   "id": "2614ad05",
   "metadata": {},
   "outputs": [
    {
     "name": "stdout",
     "output_type": "stream",
     "text": [
      "The upper_fence is 1.2 and Lower_fence is -0.32999999999999996\n"
     ]
    }
   ],
   "source": [
    "# Treating Outliers for column 'DiabetesPedigreeFunction' using IQR method: (Outliers_df = 768X8)\n",
    "Q1 = Outliers_df['DiabetesPedigreeFunction'].quantile(0.25)\n",
    "Q3 = Outliers_df['DiabetesPedigreeFunction'].quantile(0.75)\n",
    "IQR = Q3-Q1\n",
    "Upper_DPF = Q3+1.5*IQR\n",
    "Lower_DPF = Q1-1.5*IQR\n",
    "print(f'The upper_fence is {Upper_DPF} and Lower_fence is {Lower_DPF}')"
   ]
  },
  {
   "cell_type": "code",
   "execution_count": 33,
   "id": "ef9d3def",
   "metadata": {},
   "outputs": [
    {
     "data": {
      "text/html": [
       "<div>\n",
       "<style scoped>\n",
       "    .dataframe tbody tr th:only-of-type {\n",
       "        vertical-align: middle;\n",
       "    }\n",
       "\n",
       "    .dataframe tbody tr th {\n",
       "        vertical-align: top;\n",
       "    }\n",
       "\n",
       "    .dataframe thead th {\n",
       "        text-align: right;\n",
       "    }\n",
       "</style>\n",
       "<table border=\"1\" class=\"dataframe\">\n",
       "  <thead>\n",
       "    <tr style=\"text-align: right;\">\n",
       "      <th></th>\n",
       "      <th>Pregnancies</th>\n",
       "      <th>Glucose</th>\n",
       "      <th>BloodPressure</th>\n",
       "      <th>SkinThickness</th>\n",
       "      <th>Insulin</th>\n",
       "      <th>BMI</th>\n",
       "      <th>DiabetesPedigreeFunction</th>\n",
       "      <th>Age</th>\n",
       "    </tr>\n",
       "  </thead>\n",
       "  <tbody>\n",
       "    <tr>\n",
       "      <th>4</th>\n",
       "      <td>0.0</td>\n",
       "      <td>137.0</td>\n",
       "      <td>40.0</td>\n",
       "      <td>35.0</td>\n",
       "      <td>168.000</td>\n",
       "      <td>43.10</td>\n",
       "      <td>2.288</td>\n",
       "      <td>33</td>\n",
       "    </tr>\n",
       "    <tr>\n",
       "      <th>12</th>\n",
       "      <td>10.0</td>\n",
       "      <td>139.0</td>\n",
       "      <td>80.0</td>\n",
       "      <td>0.0</td>\n",
       "      <td>0.000</td>\n",
       "      <td>27.10</td>\n",
       "      <td>1.441</td>\n",
       "      <td>57</td>\n",
       "    </tr>\n",
       "    <tr>\n",
       "      <th>39</th>\n",
       "      <td>4.0</td>\n",
       "      <td>111.0</td>\n",
       "      <td>72.0</td>\n",
       "      <td>47.0</td>\n",
       "      <td>207.000</td>\n",
       "      <td>37.10</td>\n",
       "      <td>1.390</td>\n",
       "      <td>56</td>\n",
       "    </tr>\n",
       "    <tr>\n",
       "      <th>45</th>\n",
       "      <td>0.0</td>\n",
       "      <td>180.0</td>\n",
       "      <td>66.0</td>\n",
       "      <td>39.0</td>\n",
       "      <td>0.000</td>\n",
       "      <td>42.00</td>\n",
       "      <td>1.893</td>\n",
       "      <td>25</td>\n",
       "    </tr>\n",
       "    <tr>\n",
       "      <th>58</th>\n",
       "      <td>0.0</td>\n",
       "      <td>146.0</td>\n",
       "      <td>82.0</td>\n",
       "      <td>0.0</td>\n",
       "      <td>0.000</td>\n",
       "      <td>40.50</td>\n",
       "      <td>1.781</td>\n",
       "      <td>44</td>\n",
       "    </tr>\n",
       "    <tr>\n",
       "      <th>100</th>\n",
       "      <td>1.0</td>\n",
       "      <td>163.0</td>\n",
       "      <td>72.0</td>\n",
       "      <td>0.0</td>\n",
       "      <td>0.000</td>\n",
       "      <td>39.00</td>\n",
       "      <td>1.222</td>\n",
       "      <td>33</td>\n",
       "    </tr>\n",
       "    <tr>\n",
       "      <th>147</th>\n",
       "      <td>2.0</td>\n",
       "      <td>106.0</td>\n",
       "      <td>64.0</td>\n",
       "      <td>35.0</td>\n",
       "      <td>119.000</td>\n",
       "      <td>30.50</td>\n",
       "      <td>1.400</td>\n",
       "      <td>34</td>\n",
       "    </tr>\n",
       "    <tr>\n",
       "      <th>187</th>\n",
       "      <td>1.0</td>\n",
       "      <td>128.0</td>\n",
       "      <td>98.0</td>\n",
       "      <td>41.0</td>\n",
       "      <td>58.000</td>\n",
       "      <td>32.00</td>\n",
       "      <td>1.321</td>\n",
       "      <td>33</td>\n",
       "    </tr>\n",
       "    <tr>\n",
       "      <th>218</th>\n",
       "      <td>5.0</td>\n",
       "      <td>85.0</td>\n",
       "      <td>74.0</td>\n",
       "      <td>22.0</td>\n",
       "      <td>0.000</td>\n",
       "      <td>29.00</td>\n",
       "      <td>1.224</td>\n",
       "      <td>32</td>\n",
       "    </tr>\n",
       "    <tr>\n",
       "      <th>228</th>\n",
       "      <td>4.0</td>\n",
       "      <td>197.0</td>\n",
       "      <td>70.0</td>\n",
       "      <td>39.0</td>\n",
       "      <td>318.125</td>\n",
       "      <td>36.70</td>\n",
       "      <td>2.329</td>\n",
       "      <td>31</td>\n",
       "    </tr>\n",
       "    <tr>\n",
       "      <th>243</th>\n",
       "      <td>6.0</td>\n",
       "      <td>119.0</td>\n",
       "      <td>50.0</td>\n",
       "      <td>22.0</td>\n",
       "      <td>176.000</td>\n",
       "      <td>27.10</td>\n",
       "      <td>1.318</td>\n",
       "      <td>33</td>\n",
       "    </tr>\n",
       "    <tr>\n",
       "      <th>245</th>\n",
       "      <td>9.0</td>\n",
       "      <td>184.0</td>\n",
       "      <td>85.0</td>\n",
       "      <td>15.0</td>\n",
       "      <td>0.000</td>\n",
       "      <td>30.00</td>\n",
       "      <td>1.213</td>\n",
       "      <td>49</td>\n",
       "    </tr>\n",
       "    <tr>\n",
       "      <th>259</th>\n",
       "      <td>11.0</td>\n",
       "      <td>155.0</td>\n",
       "      <td>76.0</td>\n",
       "      <td>28.0</td>\n",
       "      <td>150.000</td>\n",
       "      <td>33.30</td>\n",
       "      <td>1.353</td>\n",
       "      <td>51</td>\n",
       "    </tr>\n",
       "    <tr>\n",
       "      <th>292</th>\n",
       "      <td>2.0</td>\n",
       "      <td>128.0</td>\n",
       "      <td>78.0</td>\n",
       "      <td>37.0</td>\n",
       "      <td>182.000</td>\n",
       "      <td>43.30</td>\n",
       "      <td>1.224</td>\n",
       "      <td>31</td>\n",
       "    </tr>\n",
       "    <tr>\n",
       "      <th>308</th>\n",
       "      <td>0.0</td>\n",
       "      <td>128.0</td>\n",
       "      <td>68.0</td>\n",
       "      <td>19.0</td>\n",
       "      <td>180.000</td>\n",
       "      <td>30.50</td>\n",
       "      <td>1.391</td>\n",
       "      <td>25</td>\n",
       "    </tr>\n",
       "    <tr>\n",
       "      <th>330</th>\n",
       "      <td>8.0</td>\n",
       "      <td>118.0</td>\n",
       "      <td>72.0</td>\n",
       "      <td>19.0</td>\n",
       "      <td>0.000</td>\n",
       "      <td>23.10</td>\n",
       "      <td>1.476</td>\n",
       "      <td>46</td>\n",
       "    </tr>\n",
       "    <tr>\n",
       "      <th>370</th>\n",
       "      <td>3.0</td>\n",
       "      <td>173.0</td>\n",
       "      <td>82.0</td>\n",
       "      <td>48.0</td>\n",
       "      <td>318.125</td>\n",
       "      <td>38.40</td>\n",
       "      <td>2.137</td>\n",
       "      <td>25</td>\n",
       "    </tr>\n",
       "    <tr>\n",
       "      <th>371</th>\n",
       "      <td>0.0</td>\n",
       "      <td>118.0</td>\n",
       "      <td>64.0</td>\n",
       "      <td>23.0</td>\n",
       "      <td>89.000</td>\n",
       "      <td>13.35</td>\n",
       "      <td>1.731</td>\n",
       "      <td>21</td>\n",
       "    </tr>\n",
       "    <tr>\n",
       "      <th>383</th>\n",
       "      <td>1.0</td>\n",
       "      <td>90.0</td>\n",
       "      <td>62.0</td>\n",
       "      <td>18.0</td>\n",
       "      <td>59.000</td>\n",
       "      <td>25.10</td>\n",
       "      <td>1.268</td>\n",
       "      <td>25</td>\n",
       "    </tr>\n",
       "    <tr>\n",
       "      <th>395</th>\n",
       "      <td>2.0</td>\n",
       "      <td>127.0</td>\n",
       "      <td>58.0</td>\n",
       "      <td>24.0</td>\n",
       "      <td>275.000</td>\n",
       "      <td>27.70</td>\n",
       "      <td>1.600</td>\n",
       "      <td>25</td>\n",
       "    </tr>\n",
       "    <tr>\n",
       "      <th>445</th>\n",
       "      <td>0.0</td>\n",
       "      <td>180.0</td>\n",
       "      <td>78.0</td>\n",
       "      <td>63.0</td>\n",
       "      <td>14.000</td>\n",
       "      <td>50.55</td>\n",
       "      <td>2.420</td>\n",
       "      <td>25</td>\n",
       "    </tr>\n",
       "    <tr>\n",
       "      <th>534</th>\n",
       "      <td>1.0</td>\n",
       "      <td>77.0</td>\n",
       "      <td>56.0</td>\n",
       "      <td>30.0</td>\n",
       "      <td>56.000</td>\n",
       "      <td>33.30</td>\n",
       "      <td>1.251</td>\n",
       "      <td>24</td>\n",
       "    </tr>\n",
       "    <tr>\n",
       "      <th>593</th>\n",
       "      <td>2.0</td>\n",
       "      <td>82.0</td>\n",
       "      <td>52.0</td>\n",
       "      <td>22.0</td>\n",
       "      <td>115.000</td>\n",
       "      <td>28.50</td>\n",
       "      <td>1.699</td>\n",
       "      <td>25</td>\n",
       "    </tr>\n",
       "    <tr>\n",
       "      <th>606</th>\n",
       "      <td>1.0</td>\n",
       "      <td>181.0</td>\n",
       "      <td>78.0</td>\n",
       "      <td>42.0</td>\n",
       "      <td>293.000</td>\n",
       "      <td>40.00</td>\n",
       "      <td>1.258</td>\n",
       "      <td>22</td>\n",
       "    </tr>\n",
       "    <tr>\n",
       "      <th>618</th>\n",
       "      <td>9.0</td>\n",
       "      <td>112.0</td>\n",
       "      <td>82.0</td>\n",
       "      <td>24.0</td>\n",
       "      <td>0.000</td>\n",
       "      <td>28.20</td>\n",
       "      <td>1.282</td>\n",
       "      <td>50</td>\n",
       "    </tr>\n",
       "    <tr>\n",
       "      <th>621</th>\n",
       "      <td>2.0</td>\n",
       "      <td>92.0</td>\n",
       "      <td>76.0</td>\n",
       "      <td>20.0</td>\n",
       "      <td>0.000</td>\n",
       "      <td>24.20</td>\n",
       "      <td>1.698</td>\n",
       "      <td>28</td>\n",
       "    </tr>\n",
       "    <tr>\n",
       "      <th>622</th>\n",
       "      <td>6.0</td>\n",
       "      <td>183.0</td>\n",
       "      <td>94.0</td>\n",
       "      <td>0.0</td>\n",
       "      <td>0.000</td>\n",
       "      <td>40.80</td>\n",
       "      <td>1.461</td>\n",
       "      <td>45</td>\n",
       "    </tr>\n",
       "    <tr>\n",
       "      <th>659</th>\n",
       "      <td>3.0</td>\n",
       "      <td>80.0</td>\n",
       "      <td>82.0</td>\n",
       "      <td>31.0</td>\n",
       "      <td>70.000</td>\n",
       "      <td>34.20</td>\n",
       "      <td>1.292</td>\n",
       "      <td>27</td>\n",
       "    </tr>\n",
       "    <tr>\n",
       "      <th>661</th>\n",
       "      <td>1.0</td>\n",
       "      <td>199.0</td>\n",
       "      <td>76.0</td>\n",
       "      <td>43.0</td>\n",
       "      <td>0.000</td>\n",
       "      <td>42.90</td>\n",
       "      <td>1.394</td>\n",
       "      <td>22</td>\n",
       "    </tr>\n",
       "  </tbody>\n",
       "</table>\n",
       "</div>"
      ],
      "text/plain": [
       "     Pregnancies  Glucose  BloodPressure  SkinThickness  Insulin    BMI  \\\n",
       "4            0.0    137.0           40.0           35.0  168.000  43.10   \n",
       "12          10.0    139.0           80.0            0.0    0.000  27.10   \n",
       "39           4.0    111.0           72.0           47.0  207.000  37.10   \n",
       "45           0.0    180.0           66.0           39.0    0.000  42.00   \n",
       "58           0.0    146.0           82.0            0.0    0.000  40.50   \n",
       "100          1.0    163.0           72.0            0.0    0.000  39.00   \n",
       "147          2.0    106.0           64.0           35.0  119.000  30.50   \n",
       "187          1.0    128.0           98.0           41.0   58.000  32.00   \n",
       "218          5.0     85.0           74.0           22.0    0.000  29.00   \n",
       "228          4.0    197.0           70.0           39.0  318.125  36.70   \n",
       "243          6.0    119.0           50.0           22.0  176.000  27.10   \n",
       "245          9.0    184.0           85.0           15.0    0.000  30.00   \n",
       "259         11.0    155.0           76.0           28.0  150.000  33.30   \n",
       "292          2.0    128.0           78.0           37.0  182.000  43.30   \n",
       "308          0.0    128.0           68.0           19.0  180.000  30.50   \n",
       "330          8.0    118.0           72.0           19.0    0.000  23.10   \n",
       "370          3.0    173.0           82.0           48.0  318.125  38.40   \n",
       "371          0.0    118.0           64.0           23.0   89.000  13.35   \n",
       "383          1.0     90.0           62.0           18.0   59.000  25.10   \n",
       "395          2.0    127.0           58.0           24.0  275.000  27.70   \n",
       "445          0.0    180.0           78.0           63.0   14.000  50.55   \n",
       "534          1.0     77.0           56.0           30.0   56.000  33.30   \n",
       "593          2.0     82.0           52.0           22.0  115.000  28.50   \n",
       "606          1.0    181.0           78.0           42.0  293.000  40.00   \n",
       "618          9.0    112.0           82.0           24.0    0.000  28.20   \n",
       "621          2.0     92.0           76.0           20.0    0.000  24.20   \n",
       "622          6.0    183.0           94.0            0.0    0.000  40.80   \n",
       "659          3.0     80.0           82.0           31.0   70.000  34.20   \n",
       "661          1.0    199.0           76.0           43.0    0.000  42.90   \n",
       "\n",
       "     DiabetesPedigreeFunction  Age  \n",
       "4                       2.288   33  \n",
       "12                      1.441   57  \n",
       "39                      1.390   56  \n",
       "45                      1.893   25  \n",
       "58                      1.781   44  \n",
       "100                     1.222   33  \n",
       "147                     1.400   34  \n",
       "187                     1.321   33  \n",
       "218                     1.224   32  \n",
       "228                     2.329   31  \n",
       "243                     1.318   33  \n",
       "245                     1.213   49  \n",
       "259                     1.353   51  \n",
       "292                     1.224   31  \n",
       "308                     1.391   25  \n",
       "330                     1.476   46  \n",
       "370                     2.137   25  \n",
       "371                     1.731   21  \n",
       "383                     1.268   25  \n",
       "395                     1.600   25  \n",
       "445                     2.420   25  \n",
       "534                     1.251   24  \n",
       "593                     1.699   25  \n",
       "606                     1.258   22  \n",
       "618                     1.282   50  \n",
       "621                     1.698   28  \n",
       "622                     1.461   45  \n",
       "659                     1.292   27  \n",
       "661                     1.394   22  "
      ]
     },
     "execution_count": 33,
     "metadata": {},
     "output_type": "execute_result"
    }
   ],
   "source": [
    "# Show Outliers:\n",
    "Outliers_df[(Outliers_df['DiabetesPedigreeFunction']>Upper_DPF)] # (29X8)"
   ]
  },
  {
   "cell_type": "code",
   "execution_count": 34,
   "id": "6c27ef0a",
   "metadata": {},
   "outputs": [
    {
     "data": {
      "text/plain": [
       "count    768.000000\n",
       "mean       0.458914\n",
       "std        0.285596\n",
       "min        0.078000\n",
       "25%        0.243750\n",
       "50%        0.372500\n",
       "75%        0.626250\n",
       "max        1.200000\n",
       "Name: DiabetesPedigreeFunction, dtype: float64"
      ]
     },
     "execution_count": 34,
     "metadata": {},
     "output_type": "execute_result"
    }
   ],
   "source": [
    "#Treating Using Capping Method:\n",
    "Outliers_df['DiabetesPedigreeFunction'] = np.where(Outliers_df['DiabetesPedigreeFunction']>Upper_DPF,Upper_DPF,Outliers_df['DiabetesPedigreeFunction'])\n",
    "Outliers_df['DiabetesPedigreeFunction'].describe().T"
   ]
  },
  {
   "cell_type": "markdown",
   "id": "69827c8a",
   "metadata": {},
   "source": [
    "### 'AGE' :\n"
   ]
  },
  {
   "cell_type": "code",
   "execution_count": 35,
   "id": "206330a4",
   "metadata": {},
   "outputs": [
    {
     "name": "stdout",
     "output_type": "stream",
     "text": [
      "The upper_fence is 66.5 and Lower_fence is -1.5\n"
     ]
    }
   ],
   "source": [
    "# Treating Outliers for column 'Age' using IQR method: (Outliers_df = 768X8)\n",
    "Q1 = Outliers_df['Age'].quantile(0.25)\n",
    "Q3 = Outliers_df['Age'].quantile(0.75)\n",
    "IQR = Q3-Q1\n",
    "Upper_Age = Q3+1.5*IQR\n",
    "Lower_Age = Q1-1.5*IQR\n",
    "print(f'The upper_fence is {Upper_Age} and Lower_fence is {Lower_Age}')"
   ]
  },
  {
   "cell_type": "code",
   "execution_count": 36,
   "id": "f90e6172",
   "metadata": {},
   "outputs": [
    {
     "data": {
      "text/html": [
       "<div>\n",
       "<style scoped>\n",
       "    .dataframe tbody tr th:only-of-type {\n",
       "        vertical-align: middle;\n",
       "    }\n",
       "\n",
       "    .dataframe tbody tr th {\n",
       "        vertical-align: top;\n",
       "    }\n",
       "\n",
       "    .dataframe thead th {\n",
       "        text-align: right;\n",
       "    }\n",
       "</style>\n",
       "<table border=\"1\" class=\"dataframe\">\n",
       "  <thead>\n",
       "    <tr style=\"text-align: right;\">\n",
       "      <th></th>\n",
       "      <th>Pregnancies</th>\n",
       "      <th>Glucose</th>\n",
       "      <th>BloodPressure</th>\n",
       "      <th>SkinThickness</th>\n",
       "      <th>Insulin</th>\n",
       "      <th>BMI</th>\n",
       "      <th>DiabetesPedigreeFunction</th>\n",
       "      <th>Age</th>\n",
       "    </tr>\n",
       "  </thead>\n",
       "  <tbody>\n",
       "    <tr>\n",
       "      <th>123</th>\n",
       "      <td>5.0</td>\n",
       "      <td>132.0</td>\n",
       "      <td>80.0</td>\n",
       "      <td>0.0</td>\n",
       "      <td>0.0</td>\n",
       "      <td>26.80</td>\n",
       "      <td>0.186</td>\n",
       "      <td>69</td>\n",
       "    </tr>\n",
       "    <tr>\n",
       "      <th>363</th>\n",
       "      <td>4.0</td>\n",
       "      <td>146.0</td>\n",
       "      <td>78.0</td>\n",
       "      <td>0.0</td>\n",
       "      <td>0.0</td>\n",
       "      <td>38.50</td>\n",
       "      <td>0.520</td>\n",
       "      <td>67</td>\n",
       "    </tr>\n",
       "    <tr>\n",
       "      <th>453</th>\n",
       "      <td>2.0</td>\n",
       "      <td>119.0</td>\n",
       "      <td>35.0</td>\n",
       "      <td>0.0</td>\n",
       "      <td>0.0</td>\n",
       "      <td>19.60</td>\n",
       "      <td>0.832</td>\n",
       "      <td>72</td>\n",
       "    </tr>\n",
       "    <tr>\n",
       "      <th>459</th>\n",
       "      <td>9.0</td>\n",
       "      <td>134.0</td>\n",
       "      <td>74.0</td>\n",
       "      <td>33.0</td>\n",
       "      <td>60.0</td>\n",
       "      <td>25.90</td>\n",
       "      <td>0.460</td>\n",
       "      <td>81</td>\n",
       "    </tr>\n",
       "    <tr>\n",
       "      <th>489</th>\n",
       "      <td>8.0</td>\n",
       "      <td>194.0</td>\n",
       "      <td>80.0</td>\n",
       "      <td>0.0</td>\n",
       "      <td>0.0</td>\n",
       "      <td>26.10</td>\n",
       "      <td>0.551</td>\n",
       "      <td>67</td>\n",
       "    </tr>\n",
       "    <tr>\n",
       "      <th>537</th>\n",
       "      <td>0.0</td>\n",
       "      <td>57.0</td>\n",
       "      <td>60.0</td>\n",
       "      <td>0.0</td>\n",
       "      <td>0.0</td>\n",
       "      <td>21.70</td>\n",
       "      <td>0.735</td>\n",
       "      <td>67</td>\n",
       "    </tr>\n",
       "    <tr>\n",
       "      <th>666</th>\n",
       "      <td>4.0</td>\n",
       "      <td>145.0</td>\n",
       "      <td>82.0</td>\n",
       "      <td>18.0</td>\n",
       "      <td>0.0</td>\n",
       "      <td>32.50</td>\n",
       "      <td>0.235</td>\n",
       "      <td>70</td>\n",
       "    </tr>\n",
       "    <tr>\n",
       "      <th>674</th>\n",
       "      <td>8.0</td>\n",
       "      <td>91.0</td>\n",
       "      <td>82.0</td>\n",
       "      <td>0.0</td>\n",
       "      <td>0.0</td>\n",
       "      <td>35.60</td>\n",
       "      <td>0.587</td>\n",
       "      <td>68</td>\n",
       "    </tr>\n",
       "    <tr>\n",
       "      <th>684</th>\n",
       "      <td>5.0</td>\n",
       "      <td>136.0</td>\n",
       "      <td>82.0</td>\n",
       "      <td>0.0</td>\n",
       "      <td>0.0</td>\n",
       "      <td>13.35</td>\n",
       "      <td>0.640</td>\n",
       "      <td>69</td>\n",
       "    </tr>\n",
       "  </tbody>\n",
       "</table>\n",
       "</div>"
      ],
      "text/plain": [
       "     Pregnancies  Glucose  BloodPressure  SkinThickness  Insulin    BMI  \\\n",
       "123          5.0    132.0           80.0            0.0      0.0  26.80   \n",
       "363          4.0    146.0           78.0            0.0      0.0  38.50   \n",
       "453          2.0    119.0           35.0            0.0      0.0  19.60   \n",
       "459          9.0    134.0           74.0           33.0     60.0  25.90   \n",
       "489          8.0    194.0           80.0            0.0      0.0  26.10   \n",
       "537          0.0     57.0           60.0            0.0      0.0  21.70   \n",
       "666          4.0    145.0           82.0           18.0      0.0  32.50   \n",
       "674          8.0     91.0           82.0            0.0      0.0  35.60   \n",
       "684          5.0    136.0           82.0            0.0      0.0  13.35   \n",
       "\n",
       "     DiabetesPedigreeFunction  Age  \n",
       "123                     0.186   69  \n",
       "363                     0.520   67  \n",
       "453                     0.832   72  \n",
       "459                     0.460   81  \n",
       "489                     0.551   67  \n",
       "537                     0.735   67  \n",
       "666                     0.235   70  \n",
       "674                     0.587   68  \n",
       "684                     0.640   69  "
      ]
     },
     "execution_count": 36,
     "metadata": {},
     "output_type": "execute_result"
    }
   ],
   "source": [
    "# Show Outliers:\n",
    "Outliers_df[(Outliers_df['Age']>Upper_Age)] # (9X8)"
   ]
  },
  {
   "cell_type": "code",
   "execution_count": 37,
   "id": "ba7fb5d3",
   "metadata": {},
   "outputs": [
    {
     "data": {
      "text/plain": [
       "count    768.000000\n",
       "mean      33.199870\n",
       "std       11.628404\n",
       "min       21.000000\n",
       "25%       24.000000\n",
       "50%       29.000000\n",
       "75%       41.000000\n",
       "max       66.500000\n",
       "Name: Age, dtype: float64"
      ]
     },
     "execution_count": 37,
     "metadata": {},
     "output_type": "execute_result"
    }
   ],
   "source": [
    "#Treating Using 'Capping' Method:\n",
    "Outliers_df['Age'] = np.where(Outliers_df['Age']>Upper_Age,Upper_Age,Outliers_df['Age'])\n",
    "Outliers_df['Age'].describe().T"
   ]
  },
  {
   "cell_type": "markdown",
   "id": "86fac496",
   "metadata": {},
   "source": [
    "### 2.5 Box Plots after Handeling the Outliers:"
   ]
  },
  {
   "cell_type": "code",
   "execution_count": 38,
   "id": "8b31e957",
   "metadata": {},
   "outputs": [
    {
     "name": "stderr",
     "output_type": "stream",
     "text": [
      "C:\\Users\\Home pc\\anaconda3\\lib\\site-packages\\seaborn\\_decorators.py:36: FutureWarning: Pass the following variable as a keyword arg: x. From version 0.12, the only valid positional argument will be `data`, and passing other arguments without an explicit keyword will result in an error or misinterpretation.\n",
      "  warnings.warn(\n"
     ]
    },
    {
     "data": {
      "image/png": "[encoded data removed]",
      "text/plain": [
       "<Figure size 640x480 with 1 Axes>"
      ]
     },
     "metadata": {},
     "output_type": "display_data"
    },
    {
     "name": "stderr",
     "output_type": "stream",
     "text": [
      "C:\\Users\\Home pc\\anaconda3\\lib\\site-packages\\seaborn\\_decorators.py:36: FutureWarning: Pass the following variable as a keyword arg: x. From version 0.12, the only valid positional argument will be `data`, and passing other arguments without an explicit keyword will result in an error or misinterpretation.\n",
      "  warnings.warn(\n"
     ]
    },
    {
     "data": {
      "image/png": "[encoded data removed]",
      "text/plain": [
       "<Figure size 640x480 with 1 Axes>"
      ]
     },
     "metadata": {},
     "output_type": "display_data"
    },
    {
     "name": "stderr",
     "output_type": "stream",
     "text": [
      "C:\\Users\\Home pc\\anaconda3\\lib\\site-packages\\seaborn\\_decorators.py:36: FutureWarning: Pass the following variable as a keyword arg: x. From version 0.12, the only valid positional argument will be `data`, and passing other arguments without an explicit keyword will result in an error or misinterpretation.\n",
      "  warnings.warn(\n"
     ]
    },
    {
     "data": {
      "image/png": "[encoded data removed]",
      "text/plain": [
       "<Figure size 640x480 with 1 Axes>"
      ]
     },
     "metadata": {},
     "output_type": "display_data"
    },
    {
     "name": "stderr",
     "output_type": "stream",
     "text": [
      "C:\\Users\\Home pc\\anaconda3\\lib\\site-packages\\seaborn\\_decorators.py:36: FutureWarning: Pass the following variable as a keyword arg: x. From version 0.12, the only valid positional argument will be `data`, and passing other arguments without an explicit keyword will result in an error or misinterpretation.\n",
      "  warnings.warn(\n"
     ]
    },
    {
     "data": {
      "image/png": "[encoded data removed]",
      "text/plain": [
       "<Figure size 640x480 with 1 Axes>"
      ]
     },
     "metadata": {},
     "output_type": "display_data"
    },
    {
     "name": "stderr",
     "output_type": "stream",
     "text": [
      "C:\\Users\\Home pc\\anaconda3\\lib\\site-packages\\seaborn\\_decorators.py:36: FutureWarning: Pass the following variable as a keyword arg: x. From version 0.12, the only valid positional argument will be `data`, and passing other arguments without an explicit keyword will result in an error or misinterpretation.\n",
      "  warnings.warn(\n"
     ]
    },
    {
     "data": {
      "image/png": "[encoded data removed]",
      "text/plain": [
       "<Figure size 640x480 with 1 Axes>"
      ]
     },
     "metadata": {},
     "output_type": "display_data"
    },
    {
     "name": "stderr",
     "output_type": "stream",
     "text": [
      "C:\\Users\\Home pc\\anaconda3\\lib\\site-packages\\seaborn\\_decorators.py:36: FutureWarning: Pass the following variable as a keyword arg: x. From version 0.12, the only valid positional argument will be `data`, and passing other arguments without an explicit keyword will result in an error or misinterpretation.\n",
      "  warnings.warn(\n"
     ]
    },
    {
     "data": {
      "image/png": "[encoded data removed]",
      "text/plain": [
       "<Figure size 640x480 with 1 Axes>"
      ]
     },
     "metadata": {},
     "output_type": "display_data"
    },
    {
     "name": "stderr",
     "output_type": "stream",
     "text": [
      "C:\\Users\\Home pc\\anaconda3\\lib\\site-packages\\seaborn\\_decorators.py:36: FutureWarning: Pass the following variable as a keyword arg: x. From version 0.12, the only valid positional argument will be `data`, and passing other arguments without an explicit keyword will result in an error or misinterpretation.\n",
      "  warnings.warn(\n"
     ]
    },
    {
     "data": {
      "image/png": "[encoded data removed]",
      "text/plain": [
       "<Figure size 640x480 with 1 Axes>"
      ]
     },
     "metadata": {},
     "output_type": "display_data"
    },
    {
     "name": "stderr",
     "output_type": "stream",
     "text": [
      "C:\\Users\\Home pc\\anaconda3\\lib\\site-packages\\seaborn\\_decorators.py:36: FutureWarning: Pass the following variable as a keyword arg: x. From version 0.12, the only valid positional argument will be `data`, and passing other arguments without an explicit keyword will result in an error or misinterpretation.\n",
      "  warnings.warn(\n"
     ]
    },
    {
     "data": {
      "image/png": "[encoded data removed]",
      "text/plain": [
       "<Figure size 640x480 with 1 Axes>"
      ]
     },
     "metadata": {},
     "output_type": "display_data"
    }
   ],
   "source": [
    "for i in Outliers_df.columns:\n",
    "    sns.boxplot(Outliers_df[i])\n",
    "    plt.show()"
   ]
  },
  {
   "cell_type": "markdown",
   "id": "861d6ada",
   "metadata": {},
   "source": [
    "# 4. Splitting Dataset into Train and Test Dataset:"
   ]
  },
  {
   "cell_type": "code",
   "execution_count": 39,
   "id": "ff75d2e0",
   "metadata": {},
   "outputs": [],
   "source": [
    "X = Outliers_df\n",
    "Y = Diabetes_df['Outcome']"
   ]
  },
  {
   "cell_type": "markdown",
   "id": "c288255c",
   "metadata": {},
   "source": [
    "### Scaling The Feature Vector:"
   ]
  },
  {
   "cell_type": "code",
   "execution_count": 40,
   "id": "c1cb6e46",
   "metadata": {},
   "outputs": [
    {
     "data": {
      "text/html": [
       "<div>\n",
       "<style scoped>\n",
       "    .dataframe tbody tr th:only-of-type {\n",
       "        vertical-align: middle;\n",
       "    }\n",
       "\n",
       "    .dataframe tbody tr th {\n",
       "        vertical-align: top;\n",
       "    }\n",
       "\n",
       "    .dataframe thead th {\n",
       "        text-align: right;\n",
       "    }\n",
       "</style>\n",
       "<table border=\"1\" class=\"dataframe\">\n",
       "  <thead>\n",
       "    <tr style=\"text-align: right;\">\n",
       "      <th></th>\n",
       "      <th>count</th>\n",
       "      <th>mean</th>\n",
       "      <th>std</th>\n",
       "      <th>min</th>\n",
       "      <th>25%</th>\n",
       "      <th>50%</th>\n",
       "      <th>75%</th>\n",
       "      <th>max</th>\n",
       "    </tr>\n",
       "  </thead>\n",
       "  <tbody>\n",
       "    <tr>\n",
       "      <th>Pregnancies</th>\n",
       "      <td>768.0</td>\n",
       "      <td>-1.821460e-17</td>\n",
       "      <td>1.000652</td>\n",
       "      <td>-1.148194</td>\n",
       "      <td>-0.848970</td>\n",
       "      <td>-0.250522</td>\n",
       "      <td>0.647150</td>\n",
       "      <td>2.891329</td>\n",
       "    </tr>\n",
       "    <tr>\n",
       "      <th>Glucose</th>\n",
       "      <td>768.0</td>\n",
       "      <td>-9.830100e-18</td>\n",
       "      <td>1.000652</td>\n",
       "      <td>-2.695505</td>\n",
       "      <td>-0.710242</td>\n",
       "      <td>-0.132711</td>\n",
       "      <td>0.613266</td>\n",
       "      <td>2.498263</td>\n",
       "    </tr>\n",
       "    <tr>\n",
       "      <th>BloodPressure</th>\n",
       "      <td>768.0</td>\n",
       "      <td>3.244565e-16</td>\n",
       "      <td>1.000652</td>\n",
       "      <td>-2.515148</td>\n",
       "      <td>-0.612130</td>\n",
       "      <td>0.092691</td>\n",
       "      <td>0.656548</td>\n",
       "      <td>2.559566</td>\n",
       "    </tr>\n",
       "    <tr>\n",
       "      <th>SkinThickness</th>\n",
       "      <td>768.0</td>\n",
       "      <td>-2.500893e-17</td>\n",
       "      <td>1.000652</td>\n",
       "      <td>-1.295388</td>\n",
       "      <td>-1.295388</td>\n",
       "      <td>0.157144</td>\n",
       "      <td>0.725526</td>\n",
       "      <td>3.756895</td>\n",
       "    </tr>\n",
       "    <tr>\n",
       "      <th>Insulin</th>\n",
       "      <td>768.0</td>\n",
       "      <td>2.891206e-18</td>\n",
       "      <td>1.000652</td>\n",
       "      <td>-0.787602</td>\n",
       "      <td>-0.787602</td>\n",
       "      <td>-0.461451</td>\n",
       "      <td>0.573141</td>\n",
       "      <td>2.614256</td>\n",
       "    </tr>\n",
       "    <tr>\n",
       "      <th>BMI</th>\n",
       "      <td>768.0</td>\n",
       "      <td>1.227678e-16</td>\n",
       "      <td>1.000652</td>\n",
       "      <td>-2.665023</td>\n",
       "      <td>-0.684893</td>\n",
       "      <td>-0.017752</td>\n",
       "      <td>0.635194</td>\n",
       "      <td>2.615324</td>\n",
       "    </tr>\n",
       "    <tr>\n",
       "      <th>DiabetesPedigreeFunction</th>\n",
       "      <td>768.0</td>\n",
       "      <td>-2.302845e-16</td>\n",
       "      <td>1.000652</td>\n",
       "      <td>-1.334619</td>\n",
       "      <td>-0.753876</td>\n",
       "      <td>-0.302771</td>\n",
       "      <td>0.586300</td>\n",
       "      <td>2.596563</td>\n",
       "    </tr>\n",
       "    <tr>\n",
       "      <th>Age</th>\n",
       "      <td>768.0</td>\n",
       "      <td>2.125036e-16</td>\n",
       "      <td>1.000652</td>\n",
       "      <td>-1.049828</td>\n",
       "      <td>-0.791671</td>\n",
       "      <td>-0.361409</td>\n",
       "      <td>0.671220</td>\n",
       "      <td>2.865555</td>\n",
       "    </tr>\n",
       "  </tbody>\n",
       "</table>\n",
       "</div>"
      ],
      "text/plain": [
       "                          count          mean       std       min       25%  \\\n",
       "Pregnancies               768.0 -1.821460e-17  1.000652 -1.148194 -0.848970   \n",
       "Glucose                   768.0 -9.830100e-18  1.000652 -2.695505 -0.710242   \n",
       "BloodPressure             768.0  3.244565e-16  1.000652 -2.515148 -0.612130   \n",
       "SkinThickness             768.0 -2.500893e-17  1.000652 -1.295388 -1.295388   \n",
       "Insulin                   768.0  2.891206e-18  1.000652 -0.787602 -0.787602   \n",
       "BMI                       768.0  1.227678e-16  1.000652 -2.665023 -0.684893   \n",
       "DiabetesPedigreeFunction  768.0 -2.302845e-16  1.000652 -1.334619 -0.753876   \n",
       "Age                       768.0  2.125036e-16  1.000652 -1.049828 -0.791671   \n",
       "\n",
       "                               50%       75%       max  \n",
       "Pregnancies              -0.250522  0.647150  2.891329  \n",
       "Glucose                  -0.132711  0.613266  2.498263  \n",
       "BloodPressure             0.092691  0.656548  2.559566  \n",
       "SkinThickness             0.157144  0.725526  3.756895  \n",
       "Insulin                  -0.461451  0.573141  2.614256  \n",
       "BMI                      -0.017752  0.635194  2.615324  \n",
       "DiabetesPedigreeFunction -0.302771  0.586300  2.596563  \n",
       "Age                      -0.361409  0.671220  2.865555  "
      ]
     },
     "execution_count": 40,
     "metadata": {},
     "output_type": "execute_result"
    }
   ],
   "source": [
    "X_arr = StandardScaler().fit_transform(X)\n",
    "X_df = pd.DataFrame(X_arr,columns=X.columns)\n",
    "X_df.describe().T"
   ]
  },
  {
   "cell_type": "markdown",
   "id": "c4e61c43",
   "metadata": {},
   "source": [
    "### Train-Test Data Split:"
   ]
  },
  {
   "cell_type": "code",
   "execution_count": 41,
   "id": "f798677f",
   "metadata": {},
   "outputs": [],
   "source": [
    "from sklearn.model_selection import train_test_split\n",
    "X_train,X_test,Y_train,Y_test = train_test_split(X_arr,Y,test_size=0.2,random_state=42)"
   ]
  },
  {
   "cell_type": "code",
   "execution_count": 42,
   "id": "b558b3a0",
   "metadata": {},
   "outputs": [
    {
     "name": "stdout",
     "output_type": "stream",
     "text": [
      "768\n",
      "614\n",
      "154\n"
     ]
    }
   ],
   "source": [
    "print(len(X))\n",
    "print(len(X_train))\n",
    "print(len(X_test))"
   ]
  },
  {
   "cell_type": "markdown",
   "id": "90d49bfd",
   "metadata": {},
   "source": [
    "# 5. Testing of Models:"
   ]
  },
  {
   "cell_type": "markdown",
   "id": "6aaa4fb4",
   "metadata": {},
   "source": [
    "### 1.) Logistic Regression Model:"
   ]
  },
  {
   "cell_type": "code",
   "execution_count": 77,
   "id": "a2aac26d",
   "metadata": {},
   "outputs": [
    {
     "data": {
      "text/plain": [
       "LogisticRegression()"
      ]
     },
     "execution_count": 77,
     "metadata": {},
     "output_type": "execute_result"
    }
   ],
   "source": [
    "from sklearn.linear_model import LogisticRegression\n",
    "Logi_model = LogisticRegression()\n",
    "Logi_model.fit(X_train,Y_train)"
   ]
  },
  {
   "cell_type": "code",
   "execution_count": 78,
   "id": "c21f3006",
   "metadata": {},
   "outputs": [
    {
     "data": {
      "text/plain": [
       "array([0, 0, 0, 0, 0, 0, 0, 1, 1, 1, 0, 1, 0, 0, 0, 0, 0, 0, 1, 1, 0, 0,\n",
       "       1, 0, 1, 1, 0, 0, 0, 0, 1, 1, 1, 1, 1, 1, 1, 0, 0, 1, 0, 1, 1, 0,\n",
       "       0, 1, 1, 0, 0, 1, 0, 1, 1, 0, 0, 0, 1, 0, 0, 1, 1, 0, 0, 0, 0, 1,\n",
       "       0, 1, 0, 1, 1, 0, 0, 0, 0, 1, 0, 0, 0, 0, 1, 0, 0, 0, 0, 1, 1, 0,\n",
       "       0, 0, 0, 0, 0, 0, 1, 1, 0, 0, 1, 0, 1, 0, 1, 0, 1, 0, 0, 1, 0, 1,\n",
       "       0, 0, 0, 1, 0, 0, 1, 0, 0, 0, 0, 0, 0, 0, 0, 0, 0, 1, 1, 1, 1, 1,\n",
       "       0, 0, 1, 0, 0, 1, 1, 0, 0, 0, 0, 0, 0, 0, 0, 0, 0, 1, 0, 1, 0, 0],\n",
       "      dtype=int64)"
      ]
     },
     "execution_count": 78,
     "metadata": {},
     "output_type": "execute_result"
    }
   ],
   "source": [
    "# Predicting Target Values:\n",
    "Y_predict = Logi_model.predict(X_test)\n",
    "Y_predict"
   ]
  },
  {
   "cell_type": "code",
   "execution_count": 79,
   "id": "c8f62518",
   "metadata": {},
   "outputs": [
    {
     "name": "stdout",
     "output_type": "stream",
     "text": [
      "The accuracy score is 0.7532467532467533\n"
     ]
    }
   ],
   "source": [
    "# Performance:\n",
    "from sklearn.metrics import accuracy_score,precision_score,classification_report,\\\n",
    "r2_score,mean_absolute_error,mean_squared_error\n",
    "#print('The R^2 score is',r2_score(Y_test,Y_predict))\n",
    "print('The accuracy score is',accuracy_score(Y_test,Y_predict)) #75%"
   ]
  },
  {
   "cell_type": "code",
   "execution_count": 46,
   "id": "bb961c99",
   "metadata": {},
   "outputs": [
    {
     "data": {
      "text/plain": [
       "array([[80, 19],\n",
       "       [19, 36]], dtype=int64)"
      ]
     },
     "execution_count": 46,
     "metadata": {},
     "output_type": "execute_result"
    }
   ],
   "source": [
    "cm_Logi = confusion_matrix(Y_test,Y_predict)\n",
    "cm_Logi"
   ]
  },
  {
   "cell_type": "code",
   "execution_count": 47,
   "id": "03153ad4",
   "metadata": {},
   "outputs": [
    {
     "data": {
      "image/png": "[encoded data removed]",
      "text/plain": [
       "<Figure size 640x480 with 2 Axes>"
      ]
     },
     "metadata": {},
     "output_type": "display_data"
    }
   ],
   "source": [
    "from sklearn.metrics import ConfusionMatrixDisplay\n",
    "import matplotlib.pyplot as plt\n",
    "cm_Logi_display = ConfusionMatrixDisplay(confusion_matrix=cm_Logi,display_labels=[False,True])\n",
    "cm_Logi_display.plot()\n",
    "plt.show()"
   ]
  },
  {
   "cell_type": "markdown",
   "id": "7390712e",
   "metadata": {},
   "source": [
    "### 2.) KNN Model:"
   ]
  },
  {
   "cell_type": "code",
   "execution_count": 66,
   "id": "9d99c431",
   "metadata": {
    "scrolled": false
   },
   "outputs": [],
   "source": [
    "# To find the best value of K(neighbours):\n",
    "from sklearn.neighbors import KNeighborsClassifier\n",
    "\n",
    "error = []\n",
    "\n",
    "for i in range(1,40):\n",
    "    knn = KNeighborsClassifier(n_neighbors=i)\n",
    "    knn.fit(X_train,Y_train)\n",
    "    pred_i = knn.predict(X_test)\n",
    "    mae = mean_absolute_error(Y_test,pred_i)\n",
    "    error.append(mae)"
   ]
  },
  {
   "cell_type": "markdown",
   "id": "0cca4fb7",
   "metadata": {},
   "source": [
    "## Finding best value of 'K':"
   ]
  },
  {
   "cell_type": "code",
   "execution_count": 49,
   "id": "cf9eb9f0",
   "metadata": {},
   "outputs": [
    {
     "data": {
      "image/png": "[encoded data removed]",
      "text/plain": [
       "<Figure size 1500x1000 with 1 Axes>"
      ]
     },
     "metadata": {},
     "output_type": "display_data"
    }
   ],
   "source": [
    "# plotting the error\n",
    "\n",
    "plt.figure(figsize=(15,10))\n",
    "\n",
    "plt.plot(range(1,40), error,color=\"red\",\n",
    "        linestyle=\"dashed\", marker=\"o\",\n",
    "        markerfacecolor=\"blue\", markersize=12)\n",
    "plt.title(\"K Value MAE\")\n",
    "plt.xlabel(\"K Value\")\n",
    "plt.ylabel(\"Mean Absolute Error\")\n",
    "plt.show()"
   ]
  },
  {
   "cell_type": "code",
   "execution_count": 50,
   "id": "435e0e6c",
   "metadata": {},
   "outputs": [
    {
     "name": "stdout",
     "output_type": "stream",
     "text": [
      "24\n"
     ]
    }
   ],
   "source": [
    "print(np.array(error).argmin())"
   ]
  },
  {
   "cell_type": "code",
   "execution_count": 51,
   "id": "cb1f7291",
   "metadata": {},
   "outputs": [
    {
     "data": {
      "text/plain": [
       "KNeighborsClassifier(n_neighbors=24)"
      ]
     },
     "execution_count": 51,
     "metadata": {},
     "output_type": "execute_result"
    }
   ],
   "source": [
    "from sklearn.neighbors import KNeighborsClassifier\n",
    "K_model = KNeighborsClassifier(n_neighbors=24)\n",
    "K_model.fit(X_train,Y_train)"
   ]
  },
  {
   "cell_type": "code",
   "execution_count": 52,
   "id": "fc3c6ea4",
   "metadata": {},
   "outputs": [
    {
     "name": "stderr",
     "output_type": "stream",
     "text": [
      "C:\\Users\\Home pc\\anaconda3\\lib\\site-packages\\sklearn\\neighbors\\_classification.py:228: FutureWarning: Unlike other reduction functions (e.g. `skew`, `kurtosis`), the default behavior of `mode` typically preserves the axis it acts along. In SciPy 1.11.0, this behavior will change: the default value of `keepdims` will become False, the `axis` over which the statistic is taken will be eliminated, and the value None will no longer be accepted. Set `keepdims` to True or False to avoid this warning.\n",
      "  mode, _ = stats.mode(_y[neigh_ind, k], axis=1)\n"
     ]
    },
    {
     "data": {
      "text/plain": [
       "array([0, 0, 0, 0, 1, 0, 0, 0, 1, 1, 0, 1, 0, 0, 0, 0, 0, 0, 1, 0, 1, 0,\n",
       "       0, 0, 0, 1, 0, 0, 0, 0, 1, 1, 1, 0, 0, 1, 1, 0, 0, 0, 0, 0, 0, 0,\n",
       "       0, 0, 1, 0, 0, 1, 0, 1, 1, 0, 0, 0, 0, 0, 0, 1, 1, 0, 0, 0, 0, 0,\n",
       "       0, 0, 0, 1, 1, 0, 0, 0, 0, 0, 0, 0, 0, 0, 1, 0, 0, 0, 0, 1, 1, 0,\n",
       "       0, 0, 0, 0, 0, 0, 0, 0, 0, 0, 0, 0, 1, 0, 0, 0, 1, 0, 0, 0, 0, 1,\n",
       "       0, 0, 0, 1, 0, 0, 0, 0, 0, 0, 0, 0, 0, 0, 0, 0, 0, 1, 1, 1, 1, 1,\n",
       "       0, 0, 1, 0, 0, 1, 1, 0, 0, 0, 0, 0, 0, 0, 0, 0, 0, 1, 0, 0, 0, 0],\n",
       "      dtype=int64)"
      ]
     },
     "execution_count": 52,
     "metadata": {},
     "output_type": "execute_result"
    }
   ],
   "source": [
    "Y_K_prediction = K_model.predict(X_test)\n",
    "Y_K_prediction"
   ]
  },
  {
   "cell_type": "code",
   "execution_count": 53,
   "id": "f9d94ed9",
   "metadata": {},
   "outputs": [
    {
     "name": "stdout",
     "output_type": "stream",
     "text": [
      "The accuracy score is 0.7597402597402597\n"
     ]
    }
   ],
   "source": [
    "# Accuracy:\n",
    "print('The accuracy score is',accuracy_score(Y_test,Y_K_prediction)) #76%"
   ]
  },
  {
   "cell_type": "code",
   "execution_count": 54,
   "id": "3c9dffea",
   "metadata": {},
   "outputs": [
    {
     "data": {
      "text/plain": [
       "array([[90,  9],\n",
       "       [28, 27]], dtype=int64)"
      ]
     },
     "execution_count": 54,
     "metadata": {},
     "output_type": "execute_result"
    }
   ],
   "source": [
    "# Confusion matrix:\n",
    "cm_Knn = confusion_matrix(Y_test,Y_K_prediction)\n",
    "cm_Knn"
   ]
  },
  {
   "cell_type": "code",
   "execution_count": 55,
   "id": "e3fdd79d",
   "metadata": {},
   "outputs": [
    {
     "data": {
      "image/png": "[encoded data removed]",
      "text/plain": [
       "<Figure size 640x480 with 2 Axes>"
      ]
     },
     "metadata": {},
     "output_type": "display_data"
    }
   ],
   "source": [
    "from sklearn.metrics import ConfusionMatrixDisplay\n",
    "import matplotlib.pyplot as plt\n",
    "cm_Knn_display = ConfusionMatrixDisplay(confusion_matrix=cm_Knn,display_labels=[False,False])\n",
    "cm_Knn_display.plot()\n",
    "plt.show()"
   ]
  },
  {
   "cell_type": "markdown",
   "id": "9db9f30e",
   "metadata": {},
   "source": [
    "### 3.) SVM Model:"
   ]
  },
  {
   "cell_type": "code",
   "execution_count": 56,
   "id": "4e27d167",
   "metadata": {},
   "outputs": [
    {
     "data": {
      "text/plain": [
       "SVC()"
      ]
     },
     "execution_count": 56,
     "metadata": {},
     "output_type": "execute_result"
    }
   ],
   "source": [
    "from sklearn.svm import SVC\n",
    "SVC_model = SVC()\n",
    "SVC_model.fit(X_train,Y_train)"
   ]
  },
  {
   "cell_type": "code",
   "execution_count": 57,
   "id": "c6adb115",
   "metadata": {},
   "outputs": [
    {
     "data": {
      "text/plain": [
       "array([0, 0, 0, 0, 0, 1, 0, 1, 1, 1, 0, 1, 0, 1, 0, 0, 0, 0, 1, 1, 0, 0,\n",
       "       0, 0, 1, 1, 0, 0, 0, 0, 1, 1, 1, 1, 1, 1, 1, 0, 0, 1, 0, 0, 1, 0,\n",
       "       0, 1, 1, 0, 0, 1, 0, 1, 1, 0, 0, 0, 1, 0, 0, 1, 1, 0, 1, 0, 0, 1,\n",
       "       0, 1, 0, 1, 1, 0, 0, 0, 0, 0, 0, 0, 0, 0, 1, 0, 0, 0, 0, 1, 1, 0,\n",
       "       0, 0, 0, 0, 0, 0, 1, 1, 0, 0, 0, 0, 1, 0, 0, 0, 1, 0, 0, 1, 0, 1,\n",
       "       0, 0, 0, 1, 0, 0, 1, 0, 0, 1, 0, 0, 0, 0, 0, 0, 0, 1, 1, 1, 1, 1,\n",
       "       0, 0, 0, 0, 0, 0, 1, 0, 0, 0, 0, 0, 0, 0, 0, 0, 0, 1, 0, 0, 0, 1],\n",
       "      dtype=int64)"
      ]
     },
     "execution_count": 57,
     "metadata": {},
     "output_type": "execute_result"
    }
   ],
   "source": [
    "# Predicting 'Target Values':\n",
    "Y_SVC_predict = SVC_model.predict(X_test)\n",
    "Y_SVC_predict"
   ]
  },
  {
   "cell_type": "code",
   "execution_count": 58,
   "id": "c1227ecc",
   "metadata": {},
   "outputs": [
    {
     "name": "stdout",
     "output_type": "stream",
     "text": [
      "The accuracy score is 0.7207792207792207\n"
     ]
    }
   ],
   "source": [
    "# Accuracy:\n",
    "print('The accuracy score is',accuracy_score(Y_test,Y_SVC_predict)) #72%"
   ]
  },
  {
   "cell_type": "code",
   "execution_count": 59,
   "id": "4c7b4449",
   "metadata": {},
   "outputs": [
    {
     "data": {
      "text/plain": [
       "array([[79, 20],\n",
       "       [23, 32]], dtype=int64)"
      ]
     },
     "execution_count": 59,
     "metadata": {},
     "output_type": "execute_result"
    }
   ],
   "source": [
    "# Confusion Matrix:\n",
    "from sklearn.metrics import confusion_matrix\n",
    "cm_SVC = confusion_matrix(Y_test,Y_SVC_predict)\n",
    "cm_SVC"
   ]
  },
  {
   "cell_type": "code",
   "execution_count": 60,
   "id": "f9ad3bed",
   "metadata": {},
   "outputs": [
    {
     "data": {
      "image/png": "[encoded data removed]",
      "text/plain": [
       "<Figure size 640x480 with 2 Axes>"
      ]
     },
     "metadata": {},
     "output_type": "display_data"
    }
   ],
   "source": [
    "from sklearn.metrics import ConfusionMatrixDisplay\n",
    "cm_SVC_display = ConfusionMatrixDisplay(confusion_matrix=cm_SVC,display_labels=[False,True])\n",
    "cm_SVC_display.plot()\n",
    "plt.show()"
   ]
  },
  {
   "cell_type": "markdown",
   "id": "1e7fa128",
   "metadata": {},
   "source": [
    "# Plotting the ROC and Comparing AUC:"
   ]
  },
  {
   "cell_type": "code",
   "execution_count": 76,
   "id": "221ea70c",
   "metadata": {},
   "outputs": [
    {
     "data": {
      "image/png": "[encoded data removed]",
      "text/plain": [
       "<Figure size 500x500 with 1 Axes>"
      ]
     },
     "metadata": {},
     "output_type": "display_data"
    }
   ],
   "source": [
    "from sklearn.metrics import roc_curve,auc\n",
    "import matplotlib.pyplot as plt\n",
    "\n",
    "logistic_fpr,logistic_tpr,threshold = roc_curve(Y_test,Y_predict)\n",
    "auc_logistic = auc(logistic_fpr,logistic_tpr)\n",
    "\n",
    "svm_fpr,svm_tpr,threshold = roc_curve(Y_test,Y_SVC_predict)\n",
    "auc_svm = auc(svm_fpr,svm_tpr)\n",
    "\n",
    "knn_fpr,knn_tpr,threshold = roc_curve(Y_test,Y_K_prediction)\n",
    "auc_knn = auc(knn_fpr,knn_tpr)\n",
    "\n",
    "plt.figure(figsize=(5, 5), dpi=100)\n",
    "plt.plot(svm_fpr, svm_tpr, linestyle='-', label='SVM (auc=%.3f)' % auc_svm)\n",
    "plt.plot(logistic_fpr, logistic_tpr, linestyle='--', label='Logistic (auc=%.3f)' % auc_logistic)\n",
    "plt.plot(knn_fpr, knn_tpr, linestyle=':', label='KNN (auc=%.3f)' % auc_knn)\n",
    "\n",
    "\n",
    "plt.xlabel(\"False Positive rate---->\")\n",
    "plt.ylabel(\"True Positivetive rate---->\")\n",
    "\n",
    "plt.legend()\n",
    "plt.show()"
   ]
  },
  {
   "cell_type": "markdown",
   "id": "b6d4b1b4",
   "metadata": {},
   "source": [
    "## So the Performances of different Models are as follows:\n",
    "- Logistic Regression = 75%\n",
    "- K Nearest Neighbor = 76%\n",
    "- Support Vector Machine = 72%\n",
    "\n",
    "#### So as per my experiment 'K Nearest Neighbor' gives out the best accuracy!!!!"
   ]
  },
  {
   "cell_type": "code",
   "execution_count": null,
   "id": "d175bca1",
   "metadata": {},
   "outputs": [],
   "source": []
  }
 ],
 "metadata": {
  "kernelspec": {
   "display_name": "Python 3 (ipykernel)",
   "language": "python",
   "name": "python3"
  },
  "language_info": {
   "codemirror_mode": {
    "name": "ipython",
    "version": 3
   },
   "file_extension": ".py",
   "mimetype": "text/x-python",
   "name": "python",
   "nbconvert_exporter": "python",
   "pygments_lexer": "ipython3",
   "version": "3.9.13"
  }
 },
 "nbformat": 4,
 "nbformat_minor": 5
}
